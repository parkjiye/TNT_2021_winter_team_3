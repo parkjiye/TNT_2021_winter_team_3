{
  "nbformat": 4,
  "nbformat_minor": 0,
  "metadata": {
    "colab": {
      "name": "TNT_2021_Winter_2주차 과제.ipynb",
      "provenance": [],
      "authorship_tag": "ABX9TyMIqeWalj616bYp3vftKY18",
      "include_colab_link": true
    },
    "kernelspec": {
      "name": "python3",
      "display_name": "Python 3"
    }
  },
  "cells": [
    {
      "cell_type": "markdown",
      "metadata": {
        "id": "view-in-github",
        "colab_type": "text"
      },
      "source": [
        "<a href=\"https://colab.research.google.com/github/parkjiye/TNT_2021_winter_team_3/blob/main/week2/TNT_2021_Winter_2%EC%A3%BC%EC%B0%A8_%EA%B3%BC%EC%A0%9C.ipynb\" target=\"_parent\"><img src=\"https://colab.research.google.com/assets/colab-badge.svg\" alt=\"Open In Colab\"/></a>"
      ]
    },
    {
      "cell_type": "markdown",
      "metadata": {
        "id": "de9t6RwNjo8i"
      },
      "source": [
        "# **01. MPG data**"
      ]
    },
    {
      "cell_type": "code",
      "metadata": {
        "colab": {
          "base_uri": "https://localhost:8080/"
        },
        "id": "-3tYjJ31A5iA",
        "outputId": "e04c6270-dd0d-4412-b5fa-d7ae01e393e6"
      },
      "source": [
        "from google.colab import drive\r\n",
        "drive.mount('/content/drive')"
      ],
      "execution_count": 1,
      "outputs": [
        {
          "output_type": "stream",
          "text": [
            "Mounted at /content/drive\n"
          ],
          "name": "stdout"
        }
      ]
    },
    {
      "cell_type": "code",
      "metadata": {
        "id": "PY7ReReEBChZ"
      },
      "source": [
        "import os\r\n",
        "os.chdir('/content/drive/My Drive/Colab Notebooks/2021_TNT Winter/1주차')"
      ],
      "execution_count": 141,
      "outputs": []
    },
    {
      "cell_type": "code",
      "metadata": {
        "id": "6dPittUBBXiC"
      },
      "source": [
        "import pandas as pd\r\n",
        "import numpy as np\r\n",
        "import matplotlib.pyplot as plt"
      ],
      "execution_count": 3,
      "outputs": []
    },
    {
      "cell_type": "markdown",
      "metadata": {
        "id": "aTMuhmDcj4C2"
      },
      "source": [
        "**01-1. 주어진 데이터를 이용하여 최적의 Concrete Compressive strength를 예측하는 모델을 만들 것입니다. Concrete compressive strength(MPa)를 예측하는 최적의 모델을 만드세요.**"
      ]
    },
    {
      "cell_type": "code",
      "metadata": {
        "id": "gAVcZNZqBdLY"
      },
      "source": [
        "mpg_data=pd.read_csv('mpg.csv')"
      ],
      "execution_count": 142,
      "outputs": []
    },
    {
      "cell_type": "code",
      "metadata": {
        "colab": {
          "base_uri": "https://localhost:8080/"
        },
        "id": "w8RD1Bg3JpEQ",
        "outputId": "7b3fcc36-4156-4f57-9194-aaacadfedf7a"
      },
      "source": [
        "mpg_data.shape"
      ],
      "execution_count": 143,
      "outputs": [
        {
          "output_type": "execute_result",
          "data": {
            "text/plain": [
              "(398, 9)"
            ]
          },
          "metadata": {
            "tags": []
          },
          "execution_count": 143
        }
      ]
    },
    {
      "cell_type": "code",
      "metadata": {
        "colab": {
          "base_uri": "https://localhost:8080/",
          "height": 195
        },
        "id": "bxPOpJu1BikR",
        "outputId": "f9c5f93d-6fd1-40c8-94d7-d18b58292ed4"
      },
      "source": [
        "mpg_data.head()"
      ],
      "execution_count": 145,
      "outputs": [
        {
          "output_type": "execute_result",
          "data": {
            "text/html": [
              "<div>\n",
              "<style scoped>\n",
              "    .dataframe tbody tr th:only-of-type {\n",
              "        vertical-align: middle;\n",
              "    }\n",
              "\n",
              "    .dataframe tbody tr th {\n",
              "        vertical-align: top;\n",
              "    }\n",
              "\n",
              "    .dataframe thead th {\n",
              "        text-align: right;\n",
              "    }\n",
              "</style>\n",
              "<table border=\"1\" class=\"dataframe\">\n",
              "  <thead>\n",
              "    <tr style=\"text-align: right;\">\n",
              "      <th></th>\n",
              "      <th>mpg</th>\n",
              "      <th>cylinders</th>\n",
              "      <th>displacement</th>\n",
              "      <th>horsepower</th>\n",
              "      <th>weight</th>\n",
              "      <th>acceleration</th>\n",
              "      <th>model_year</th>\n",
              "      <th>origin</th>\n",
              "      <th>name</th>\n",
              "    </tr>\n",
              "  </thead>\n",
              "  <tbody>\n",
              "    <tr>\n",
              "      <th>0</th>\n",
              "      <td>18.0</td>\n",
              "      <td>8</td>\n",
              "      <td>307.0</td>\n",
              "      <td>130.0</td>\n",
              "      <td>3504</td>\n",
              "      <td>12.0</td>\n",
              "      <td>70</td>\n",
              "      <td>usa</td>\n",
              "      <td>chevrolet chevelle malibu</td>\n",
              "    </tr>\n",
              "    <tr>\n",
              "      <th>1</th>\n",
              "      <td>15.0</td>\n",
              "      <td>8</td>\n",
              "      <td>350.0</td>\n",
              "      <td>165.0</td>\n",
              "      <td>3693</td>\n",
              "      <td>11.5</td>\n",
              "      <td>70</td>\n",
              "      <td>usa</td>\n",
              "      <td>buick skylark 320</td>\n",
              "    </tr>\n",
              "    <tr>\n",
              "      <th>2</th>\n",
              "      <td>18.0</td>\n",
              "      <td>8</td>\n",
              "      <td>318.0</td>\n",
              "      <td>150.0</td>\n",
              "      <td>3436</td>\n",
              "      <td>11.0</td>\n",
              "      <td>70</td>\n",
              "      <td>usa</td>\n",
              "      <td>plymouth satellite</td>\n",
              "    </tr>\n",
              "    <tr>\n",
              "      <th>3</th>\n",
              "      <td>16.0</td>\n",
              "      <td>8</td>\n",
              "      <td>304.0</td>\n",
              "      <td>150.0</td>\n",
              "      <td>3433</td>\n",
              "      <td>12.0</td>\n",
              "      <td>70</td>\n",
              "      <td>usa</td>\n",
              "      <td>amc rebel sst</td>\n",
              "    </tr>\n",
              "    <tr>\n",
              "      <th>4</th>\n",
              "      <td>17.0</td>\n",
              "      <td>8</td>\n",
              "      <td>302.0</td>\n",
              "      <td>140.0</td>\n",
              "      <td>3449</td>\n",
              "      <td>10.5</td>\n",
              "      <td>70</td>\n",
              "      <td>usa</td>\n",
              "      <td>ford torino</td>\n",
              "    </tr>\n",
              "  </tbody>\n",
              "</table>\n",
              "</div>"
            ],
            "text/plain": [
              "    mpg  cylinders  displacement  ...  model_year  origin                       name\n",
              "0  18.0          8         307.0  ...          70     usa  chevrolet chevelle malibu\n",
              "1  15.0          8         350.0  ...          70     usa          buick skylark 320\n",
              "2  18.0          8         318.0  ...          70     usa         plymouth satellite\n",
              "3  16.0          8         304.0  ...          70     usa              amc rebel sst\n",
              "4  17.0          8         302.0  ...          70     usa                ford torino\n",
              "\n",
              "[5 rows x 9 columns]"
            ]
          },
          "metadata": {
            "tags": []
          },
          "execution_count": 145
        }
      ]
    },
    {
      "cell_type": "code",
      "metadata": {
        "id": "ESddVPwbI-jz"
      },
      "source": [
        "import statsmodels.api as sm\r\n",
        "from statsmodels.stats.outliers_influence import variance_inflation_factor"
      ],
      "execution_count": 146,
      "outputs": []
    },
    {
      "cell_type": "code",
      "metadata": {
        "colab": {
          "base_uri": "https://localhost:8080/",
          "height": 640
        },
        "id": "OvqPkCh5JCcB",
        "outputId": "eb7cf4c6-b09f-4bfa-e2db-9cb9d32fce5d"
      },
      "source": [
        "mpg_data"
      ],
      "execution_count": 147,
      "outputs": [
        {
          "output_type": "execute_result",
          "data": {
            "text/html": [
              "<div>\n",
              "<style scoped>\n",
              "    .dataframe tbody tr th:only-of-type {\n",
              "        vertical-align: middle;\n",
              "    }\n",
              "\n",
              "    .dataframe tbody tr th {\n",
              "        vertical-align: top;\n",
              "    }\n",
              "\n",
              "    .dataframe thead th {\n",
              "        text-align: right;\n",
              "    }\n",
              "</style>\n",
              "<table border=\"1\" class=\"dataframe\">\n",
              "  <thead>\n",
              "    <tr style=\"text-align: right;\">\n",
              "      <th></th>\n",
              "      <th>mpg</th>\n",
              "      <th>cylinders</th>\n",
              "      <th>displacement</th>\n",
              "      <th>horsepower</th>\n",
              "      <th>weight</th>\n",
              "      <th>acceleration</th>\n",
              "      <th>model_year</th>\n",
              "      <th>origin</th>\n",
              "      <th>name</th>\n",
              "    </tr>\n",
              "  </thead>\n",
              "  <tbody>\n",
              "    <tr>\n",
              "      <th>0</th>\n",
              "      <td>18.0</td>\n",
              "      <td>8</td>\n",
              "      <td>307.0</td>\n",
              "      <td>130.0</td>\n",
              "      <td>3504</td>\n",
              "      <td>12.0</td>\n",
              "      <td>70</td>\n",
              "      <td>usa</td>\n",
              "      <td>chevrolet chevelle malibu</td>\n",
              "    </tr>\n",
              "    <tr>\n",
              "      <th>1</th>\n",
              "      <td>15.0</td>\n",
              "      <td>8</td>\n",
              "      <td>350.0</td>\n",
              "      <td>165.0</td>\n",
              "      <td>3693</td>\n",
              "      <td>11.5</td>\n",
              "      <td>70</td>\n",
              "      <td>usa</td>\n",
              "      <td>buick skylark 320</td>\n",
              "    </tr>\n",
              "    <tr>\n",
              "      <th>2</th>\n",
              "      <td>18.0</td>\n",
              "      <td>8</td>\n",
              "      <td>318.0</td>\n",
              "      <td>150.0</td>\n",
              "      <td>3436</td>\n",
              "      <td>11.0</td>\n",
              "      <td>70</td>\n",
              "      <td>usa</td>\n",
              "      <td>plymouth satellite</td>\n",
              "    </tr>\n",
              "    <tr>\n",
              "      <th>3</th>\n",
              "      <td>16.0</td>\n",
              "      <td>8</td>\n",
              "      <td>304.0</td>\n",
              "      <td>150.0</td>\n",
              "      <td>3433</td>\n",
              "      <td>12.0</td>\n",
              "      <td>70</td>\n",
              "      <td>usa</td>\n",
              "      <td>amc rebel sst</td>\n",
              "    </tr>\n",
              "    <tr>\n",
              "      <th>4</th>\n",
              "      <td>17.0</td>\n",
              "      <td>8</td>\n",
              "      <td>302.0</td>\n",
              "      <td>140.0</td>\n",
              "      <td>3449</td>\n",
              "      <td>10.5</td>\n",
              "      <td>70</td>\n",
              "      <td>usa</td>\n",
              "      <td>ford torino</td>\n",
              "    </tr>\n",
              "    <tr>\n",
              "      <th>...</th>\n",
              "      <td>...</td>\n",
              "      <td>...</td>\n",
              "      <td>...</td>\n",
              "      <td>...</td>\n",
              "      <td>...</td>\n",
              "      <td>...</td>\n",
              "      <td>...</td>\n",
              "      <td>...</td>\n",
              "      <td>...</td>\n",
              "    </tr>\n",
              "    <tr>\n",
              "      <th>393</th>\n",
              "      <td>27.0</td>\n",
              "      <td>4</td>\n",
              "      <td>140.0</td>\n",
              "      <td>86.0</td>\n",
              "      <td>2790</td>\n",
              "      <td>15.6</td>\n",
              "      <td>82</td>\n",
              "      <td>usa</td>\n",
              "      <td>ford mustang gl</td>\n",
              "    </tr>\n",
              "    <tr>\n",
              "      <th>394</th>\n",
              "      <td>44.0</td>\n",
              "      <td>4</td>\n",
              "      <td>97.0</td>\n",
              "      <td>52.0</td>\n",
              "      <td>2130</td>\n",
              "      <td>24.6</td>\n",
              "      <td>82</td>\n",
              "      <td>europe</td>\n",
              "      <td>vw pickup</td>\n",
              "    </tr>\n",
              "    <tr>\n",
              "      <th>395</th>\n",
              "      <td>32.0</td>\n",
              "      <td>4</td>\n",
              "      <td>135.0</td>\n",
              "      <td>84.0</td>\n",
              "      <td>2295</td>\n",
              "      <td>11.6</td>\n",
              "      <td>82</td>\n",
              "      <td>usa</td>\n",
              "      <td>dodge rampage</td>\n",
              "    </tr>\n",
              "    <tr>\n",
              "      <th>396</th>\n",
              "      <td>28.0</td>\n",
              "      <td>4</td>\n",
              "      <td>120.0</td>\n",
              "      <td>79.0</td>\n",
              "      <td>2625</td>\n",
              "      <td>18.6</td>\n",
              "      <td>82</td>\n",
              "      <td>usa</td>\n",
              "      <td>ford ranger</td>\n",
              "    </tr>\n",
              "    <tr>\n",
              "      <th>397</th>\n",
              "      <td>31.0</td>\n",
              "      <td>4</td>\n",
              "      <td>119.0</td>\n",
              "      <td>82.0</td>\n",
              "      <td>2720</td>\n",
              "      <td>19.4</td>\n",
              "      <td>82</td>\n",
              "      <td>usa</td>\n",
              "      <td>chevy s-10</td>\n",
              "    </tr>\n",
              "  </tbody>\n",
              "</table>\n",
              "<p>398 rows × 9 columns</p>\n",
              "</div>"
            ],
            "text/plain": [
              "      mpg  cylinders  ...  origin                       name\n",
              "0    18.0          8  ...     usa  chevrolet chevelle malibu\n",
              "1    15.0          8  ...     usa          buick skylark 320\n",
              "2    18.0          8  ...     usa         plymouth satellite\n",
              "3    16.0          8  ...     usa              amc rebel sst\n",
              "4    17.0          8  ...     usa                ford torino\n",
              "..    ...        ...  ...     ...                        ...\n",
              "393  27.0          4  ...     usa            ford mustang gl\n",
              "394  44.0          4  ...  europe                  vw pickup\n",
              "395  32.0          4  ...     usa              dodge rampage\n",
              "396  28.0          4  ...     usa                ford ranger\n",
              "397  31.0          4  ...     usa                 chevy s-10\n",
              "\n",
              "[398 rows x 9 columns]"
            ]
          },
          "metadata": {
            "tags": []
          },
          "execution_count": 147
        }
      ]
    },
    {
      "cell_type": "code",
      "metadata": {
        "colab": {
          "base_uri": "https://localhost:8080/"
        },
        "id": "l3fKnBJOJ2Dq",
        "outputId": "dc326449-0384-4128-8c0c-6ca41a932ab1"
      },
      "source": [
        "def dummy_data(data, columns):\r\n",
        "    for column in columns:\r\n",
        "        data = pd.concat([data, pd.get_dummies(data[column], prefix = column)], axis=1)\r\n",
        "        data = data.drop(column, axis=1)\r\n",
        "    return data\r\n",
        "\r\n",
        "\r\n",
        "dummy_columns = [\"origin\"]\r\n",
        "mpg_encoded = dummy_data(mpg_data, dummy_columns)\r\n",
        "\r\n",
        "print(mpg_encoded.shape)"
      ],
      "execution_count": 148,
      "outputs": [
        {
          "output_type": "stream",
          "text": [
            "(398, 11)\n"
          ],
          "name": "stdout"
        }
      ]
    },
    {
      "cell_type": "code",
      "metadata": {
        "colab": {
          "base_uri": "https://localhost:8080/",
          "height": 640
        },
        "id": "WLAd2_TBMF13",
        "outputId": "41a6d9ae-5c16-4808-d1bb-44367adab3c4"
      },
      "source": [
        "mpg_encoded"
      ],
      "execution_count": 149,
      "outputs": [
        {
          "output_type": "execute_result",
          "data": {
            "text/html": [
              "<div>\n",
              "<style scoped>\n",
              "    .dataframe tbody tr th:only-of-type {\n",
              "        vertical-align: middle;\n",
              "    }\n",
              "\n",
              "    .dataframe tbody tr th {\n",
              "        vertical-align: top;\n",
              "    }\n",
              "\n",
              "    .dataframe thead th {\n",
              "        text-align: right;\n",
              "    }\n",
              "</style>\n",
              "<table border=\"1\" class=\"dataframe\">\n",
              "  <thead>\n",
              "    <tr style=\"text-align: right;\">\n",
              "      <th></th>\n",
              "      <th>mpg</th>\n",
              "      <th>cylinders</th>\n",
              "      <th>displacement</th>\n",
              "      <th>horsepower</th>\n",
              "      <th>weight</th>\n",
              "      <th>acceleration</th>\n",
              "      <th>model_year</th>\n",
              "      <th>name</th>\n",
              "      <th>origin_europe</th>\n",
              "      <th>origin_japan</th>\n",
              "      <th>origin_usa</th>\n",
              "    </tr>\n",
              "  </thead>\n",
              "  <tbody>\n",
              "    <tr>\n",
              "      <th>0</th>\n",
              "      <td>18.0</td>\n",
              "      <td>8</td>\n",
              "      <td>307.0</td>\n",
              "      <td>130.0</td>\n",
              "      <td>3504</td>\n",
              "      <td>12.0</td>\n",
              "      <td>70</td>\n",
              "      <td>chevrolet chevelle malibu</td>\n",
              "      <td>0</td>\n",
              "      <td>0</td>\n",
              "      <td>1</td>\n",
              "    </tr>\n",
              "    <tr>\n",
              "      <th>1</th>\n",
              "      <td>15.0</td>\n",
              "      <td>8</td>\n",
              "      <td>350.0</td>\n",
              "      <td>165.0</td>\n",
              "      <td>3693</td>\n",
              "      <td>11.5</td>\n",
              "      <td>70</td>\n",
              "      <td>buick skylark 320</td>\n",
              "      <td>0</td>\n",
              "      <td>0</td>\n",
              "      <td>1</td>\n",
              "    </tr>\n",
              "    <tr>\n",
              "      <th>2</th>\n",
              "      <td>18.0</td>\n",
              "      <td>8</td>\n",
              "      <td>318.0</td>\n",
              "      <td>150.0</td>\n",
              "      <td>3436</td>\n",
              "      <td>11.0</td>\n",
              "      <td>70</td>\n",
              "      <td>plymouth satellite</td>\n",
              "      <td>0</td>\n",
              "      <td>0</td>\n",
              "      <td>1</td>\n",
              "    </tr>\n",
              "    <tr>\n",
              "      <th>3</th>\n",
              "      <td>16.0</td>\n",
              "      <td>8</td>\n",
              "      <td>304.0</td>\n",
              "      <td>150.0</td>\n",
              "      <td>3433</td>\n",
              "      <td>12.0</td>\n",
              "      <td>70</td>\n",
              "      <td>amc rebel sst</td>\n",
              "      <td>0</td>\n",
              "      <td>0</td>\n",
              "      <td>1</td>\n",
              "    </tr>\n",
              "    <tr>\n",
              "      <th>4</th>\n",
              "      <td>17.0</td>\n",
              "      <td>8</td>\n",
              "      <td>302.0</td>\n",
              "      <td>140.0</td>\n",
              "      <td>3449</td>\n",
              "      <td>10.5</td>\n",
              "      <td>70</td>\n",
              "      <td>ford torino</td>\n",
              "      <td>0</td>\n",
              "      <td>0</td>\n",
              "      <td>1</td>\n",
              "    </tr>\n",
              "    <tr>\n",
              "      <th>...</th>\n",
              "      <td>...</td>\n",
              "      <td>...</td>\n",
              "      <td>...</td>\n",
              "      <td>...</td>\n",
              "      <td>...</td>\n",
              "      <td>...</td>\n",
              "      <td>...</td>\n",
              "      <td>...</td>\n",
              "      <td>...</td>\n",
              "      <td>...</td>\n",
              "      <td>...</td>\n",
              "    </tr>\n",
              "    <tr>\n",
              "      <th>393</th>\n",
              "      <td>27.0</td>\n",
              "      <td>4</td>\n",
              "      <td>140.0</td>\n",
              "      <td>86.0</td>\n",
              "      <td>2790</td>\n",
              "      <td>15.6</td>\n",
              "      <td>82</td>\n",
              "      <td>ford mustang gl</td>\n",
              "      <td>0</td>\n",
              "      <td>0</td>\n",
              "      <td>1</td>\n",
              "    </tr>\n",
              "    <tr>\n",
              "      <th>394</th>\n",
              "      <td>44.0</td>\n",
              "      <td>4</td>\n",
              "      <td>97.0</td>\n",
              "      <td>52.0</td>\n",
              "      <td>2130</td>\n",
              "      <td>24.6</td>\n",
              "      <td>82</td>\n",
              "      <td>vw pickup</td>\n",
              "      <td>1</td>\n",
              "      <td>0</td>\n",
              "      <td>0</td>\n",
              "    </tr>\n",
              "    <tr>\n",
              "      <th>395</th>\n",
              "      <td>32.0</td>\n",
              "      <td>4</td>\n",
              "      <td>135.0</td>\n",
              "      <td>84.0</td>\n",
              "      <td>2295</td>\n",
              "      <td>11.6</td>\n",
              "      <td>82</td>\n",
              "      <td>dodge rampage</td>\n",
              "      <td>0</td>\n",
              "      <td>0</td>\n",
              "      <td>1</td>\n",
              "    </tr>\n",
              "    <tr>\n",
              "      <th>396</th>\n",
              "      <td>28.0</td>\n",
              "      <td>4</td>\n",
              "      <td>120.0</td>\n",
              "      <td>79.0</td>\n",
              "      <td>2625</td>\n",
              "      <td>18.6</td>\n",
              "      <td>82</td>\n",
              "      <td>ford ranger</td>\n",
              "      <td>0</td>\n",
              "      <td>0</td>\n",
              "      <td>1</td>\n",
              "    </tr>\n",
              "    <tr>\n",
              "      <th>397</th>\n",
              "      <td>31.0</td>\n",
              "      <td>4</td>\n",
              "      <td>119.0</td>\n",
              "      <td>82.0</td>\n",
              "      <td>2720</td>\n",
              "      <td>19.4</td>\n",
              "      <td>82</td>\n",
              "      <td>chevy s-10</td>\n",
              "      <td>0</td>\n",
              "      <td>0</td>\n",
              "      <td>1</td>\n",
              "    </tr>\n",
              "  </tbody>\n",
              "</table>\n",
              "<p>398 rows × 11 columns</p>\n",
              "</div>"
            ],
            "text/plain": [
              "      mpg  cylinders  displacement  ...  origin_europe  origin_japan  origin_usa\n",
              "0    18.0          8         307.0  ...              0             0           1\n",
              "1    15.0          8         350.0  ...              0             0           1\n",
              "2    18.0          8         318.0  ...              0             0           1\n",
              "3    16.0          8         304.0  ...              0             0           1\n",
              "4    17.0          8         302.0  ...              0             0           1\n",
              "..    ...        ...           ...  ...            ...           ...         ...\n",
              "393  27.0          4         140.0  ...              0             0           1\n",
              "394  44.0          4          97.0  ...              1             0           0\n",
              "395  32.0          4         135.0  ...              0             0           1\n",
              "396  28.0          4         120.0  ...              0             0           1\n",
              "397  31.0          4         119.0  ...              0             0           1\n",
              "\n",
              "[398 rows x 11 columns]"
            ]
          },
          "metadata": {
            "tags": []
          },
          "execution_count": 149
        }
      ]
    },
    {
      "cell_type": "code",
      "metadata": {
        "colab": {
          "base_uri": "https://localhost:8080/"
        },
        "id": "FMUWLIqGMJLx",
        "outputId": "4ff1ec74-2913-4ea3-d53d-4041a1d8a855"
      },
      "source": [
        "mpg_encoded.info()"
      ],
      "execution_count": 150,
      "outputs": [
        {
          "output_type": "stream",
          "text": [
            "<class 'pandas.core.frame.DataFrame'>\n",
            "RangeIndex: 398 entries, 0 to 397\n",
            "Data columns (total 11 columns):\n",
            " #   Column         Non-Null Count  Dtype  \n",
            "---  ------         --------------  -----  \n",
            " 0   mpg            398 non-null    float64\n",
            " 1   cylinders      398 non-null    int64  \n",
            " 2   displacement   398 non-null    float64\n",
            " 3   horsepower     392 non-null    float64\n",
            " 4   weight         398 non-null    int64  \n",
            " 5   acceleration   398 non-null    float64\n",
            " 6   model_year     398 non-null    int64  \n",
            " 7   name           398 non-null    object \n",
            " 8   origin_europe  398 non-null    uint8  \n",
            " 9   origin_japan   398 non-null    uint8  \n",
            " 10  origin_usa     398 non-null    uint8  \n",
            "dtypes: float64(4), int64(3), object(1), uint8(3)\n",
            "memory usage: 26.2+ KB\n"
          ],
          "name": "stdout"
        }
      ]
    },
    {
      "cell_type": "code",
      "metadata": {
        "id": "MBwvbtAQkj8a"
      },
      "source": [
        "mpg_encoded.dropna(inplace = True)"
      ],
      "execution_count": 159,
      "outputs": []
    },
    {
      "cell_type": "code",
      "metadata": {
        "id": "7mpaf2rLM2su"
      },
      "source": [
        "features = mpg_encoded[['cylinders', 'displacement', 'horsepower', 'weight','acceleration', 'model_year', 'origin_europe', 'origin_japan', 'origin_usa']]\r\n",
        "mpg = mpg_encoded['mpg']"
      ],
      "execution_count": 160,
      "outputs": []
    },
    {
      "cell_type": "code",
      "metadata": {
        "id": "yAmqF2v-TK3o"
      },
      "source": [
        "from sklearn import linear_model"
      ],
      "execution_count": 161,
      "outputs": []
    },
    {
      "cell_type": "code",
      "metadata": {
        "id": "aTYXyQecTyzc"
      },
      "source": [
        "a_ar2s=[]\r\n",
        "fitmodels=[]"
      ],
      "execution_count": 169,
      "outputs": []
    },
    {
      "cell_type": "markdown",
      "metadata": {
        "id": "siYdnv-HU5fl"
      },
      "source": [
        "선형회귀"
      ]
    },
    {
      "cell_type": "code",
      "metadata": {
        "id": "4n2u8O1fTUUT"
      },
      "source": [
        "linear = linear_model.LinearRegression()\r\n",
        "fit_linear=linear.fit(features, mpg)\r\n",
        "r2 = fit_linear.score(features, mpg)\r\n",
        "ar2 = 1 - ((1 - r2)*(len(mpg) - 1)/(len(mpg) - features.shape[1] - 1))\r\n",
        "        \r\n",
        "a_ar2s.append(ar2)\r\n",
        "fitmodels.append(fit_linear)"
      ],
      "execution_count": 170,
      "outputs": []
    },
    {
      "cell_type": "markdown",
      "metadata": {
        "id": "XF2S8Qc_kwTA"
      },
      "source": [
        "릿지회귀"
      ]
    },
    {
      "cell_type": "code",
      "metadata": {
        "id": "IbNiBuOaVA0v"
      },
      "source": [
        "ridge = linear_model.Ridge(alpha = 1.0)\r\n",
        "fit_linear=ridge.fit(features, mpg)\r\n",
        "r2 = fit_linear.score(features, mpg)\r\n",
        "ar2 = 1 - ((1 - r2)*(len(mpg) - 1)/(len(mpg) - features.shape[1] - 1))\r\n",
        "        \r\n",
        "a_ar2s.append(ar2)\r\n",
        "fitmodels.append(fit_linear)"
      ],
      "execution_count": 171,
      "outputs": []
    },
    {
      "cell_type": "markdown",
      "metadata": {
        "id": "CMoQLlUAkzTb"
      },
      "source": [
        "라쏘회귀"
      ]
    },
    {
      "cell_type": "code",
      "metadata": {
        "id": "KrGA7-GXVLsW"
      },
      "source": [
        "lasso = linear_model.Lasso(alpha = 0.01, max_iter = 1000)\r\n",
        "fit_linear=lasso.fit(features, mpg)\r\n",
        "r2 = fit_linear.score(features, mpg)\r\n",
        "ar2 = 1 - ((1 - r2)*(len(mpg) - 1)/(len(mpg) - features.shape[1] - 1))\r\n",
        "    \r\n",
        "a_ar2s.append(ar2)\r\n",
        "fitmodels.append(fit_linear)"
      ],
      "execution_count": 172,
      "outputs": []
    },
    {
      "cell_type": "markdown",
      "metadata": {
        "id": "2hv2E_o2k1sq"
      },
      "source": [
        "엘라스틱넷"
      ]
    },
    {
      "cell_type": "code",
      "metadata": {
        "id": "ZilN_vOuVppz"
      },
      "source": [
        "enet = linear_model.ElasticNet(alpha = 0.01, l1_ratio = 0.1)\r\n",
        "fit_linear=enet.fit(features, mpg)\r\n",
        "r2 = fit_linear.score(features, mpg)\r\n",
        "ar2 = 1 - ((1 - r2)*(len(mpg)] - 1)/(len(mpg) - features.shape[1] - 1))\r\n",
        "        \r\n",
        "a_ar2s.append(ar2)\r\n",
        "fitmodels.append(fit_linear)"
      ],
      "execution_count": 173,
      "outputs": []
    },
    {
      "cell_type": "code",
      "metadata": {
        "id": "yDeO5hlQV7Xi"
      },
      "source": [
        " results = pd.DataFrame(data = a_ar2s, columns = ['Adjusted R-Square'], index = ['Linear', 'Ridge', 'Lasso', 'ElasticNet'])"
      ],
      "execution_count": 174,
      "outputs": []
    },
    {
      "cell_type": "code",
      "metadata": {
        "colab": {
          "base_uri": "https://localhost:8080/",
          "height": 166
        },
        "id": "kpGQcGHtWtaU",
        "outputId": "11908bfb-548b-48d1-f196-cece8080cca6"
      },
      "source": [
        "results"
      ],
      "execution_count": 44,
      "outputs": [
        {
          "output_type": "execute_result",
          "data": {
            "text/html": [
              "<div>\n",
              "<style scoped>\n",
              "    .dataframe tbody tr th:only-of-type {\n",
              "        vertical-align: middle;\n",
              "    }\n",
              "\n",
              "    .dataframe tbody tr th {\n",
              "        vertical-align: top;\n",
              "    }\n",
              "\n",
              "    .dataframe thead th {\n",
              "        text-align: right;\n",
              "    }\n",
              "</style>\n",
              "<table border=\"1\" class=\"dataframe\">\n",
              "  <thead>\n",
              "    <tr style=\"text-align: right;\">\n",
              "      <th></th>\n",
              "      <th>Adjusted R-Square</th>\n",
              "    </tr>\n",
              "  </thead>\n",
              "  <tbody>\n",
              "    <tr>\n",
              "      <th>Linear</th>\n",
              "      <td>0.820058</td>\n",
              "    </tr>\n",
              "    <tr>\n",
              "      <th>Ridge</th>\n",
              "      <td>0.820054</td>\n",
              "    </tr>\n",
              "    <tr>\n",
              "      <th>Lasso</th>\n",
              "      <td>0.820030</td>\n",
              "    </tr>\n",
              "    <tr>\n",
              "      <th>ElasticNet</th>\n",
              "      <td>0.820057</td>\n",
              "    </tr>\n",
              "  </tbody>\n",
              "</table>\n",
              "</div>"
            ],
            "text/plain": [
              "            Adjusted R-Square\n",
              "Linear               0.820058\n",
              "Ridge                0.820054\n",
              "Lasso                0.820030\n",
              "ElasticNet           0.820057"
            ]
          },
          "metadata": {
            "tags": []
          },
          "execution_count": 44
        }
      ]
    },
    {
      "cell_type": "markdown",
      "metadata": {
        "id": "xAhlaOH2naiY"
      },
      "source": [
        "간단한 전처리를 진행한 데이터로 선형회귀, 릿지, 라쏘, 엘라스틱넷을 이용해서 Adjusted R-Square를 구해본 결과 거의 다 비슷한데 선형회귀와 엘라스틱넷의 모델이 제일 좋은 것을 확인할 수 있다."
      ]
    },
    {
      "cell_type": "markdown",
      "metadata": {
        "id": "PZOumfGanRkk"
      },
      "source": [
        "**01-2. 1번에서 만든 모델을 이용하여 mpg와 각각의 변수 간의 관계를 설명하세요.**"
      ]
    },
    {
      "cell_type": "code",
      "metadata": {
        "colab": {
          "base_uri": "https://localhost:8080/"
        },
        "id": "1C42UDeGWuia",
        "outputId": "a784eb91-83d3-4e83-ad7a-1a14577ca287"
      },
      "source": [
        "print(fitmodels[0].coef_)"
      ],
      "execution_count": 176,
      "outputs": [
        {
          "output_type": "stream",
          "text": [
            "[-0.48970942  0.02397864 -0.01818346 -0.00671038  0.07910304  0.77702694\n",
            "  0.80225883  1.0254847  -1.82774353]\n"
          ],
          "name": "stdout"
        }
      ]
    },
    {
      "cell_type": "markdown",
      "metadata": {
        "id": "YKmq8H5Onz5q"
      },
      "source": [
        "각 feature들의 계수(coefficients)를 확인해 보면 어떤 feature가 mpg에 큰 영향을 주는 지 확인해 볼 수 있다. 위에 있는 feature들의 순서대로 확인해주면 되는데 cylinders, horsepower, weight는 mpg, origin japan과 반비례 관계이고 나머지 feature들은 정비례 관계임을 알 수 있다. 가장 큰 영향을 주는 feature는 origin_japan으로 origin이 japan인 경우 mpg 값이 가장 큰 영향을 받는 것을 확인할 수 있다."
      ]
    },
    {
      "cell_type": "markdown",
      "metadata": {
        "id": "MSt0LDszXfDe"
      },
      "source": [
        "** (번외) 다중공산성 확인 위한 VIF/p-value 체크**"
      ]
    },
    {
      "cell_type": "code",
      "metadata": {
        "id": "of5ytffgTQy9"
      },
      "source": [
        "from patsy import dmatrices\r\n",
        "import statsmodels.api as sm\r\n",
        "from statsmodels.stats.outliers_influence import variance_inflation_factor"
      ],
      "execution_count": 177,
      "outputs": []
    },
    {
      "cell_type": "code",
      "metadata": {
        "colab": {
          "base_uri": "https://localhost:8080/"
        },
        "id": "5IXS26t3NUSA",
        "outputId": "cc2b4770-d866-40bb-9d23-2c9142edcf18"
      },
      "source": [
        "mpg_encoded.columns"
      ],
      "execution_count": 178,
      "outputs": [
        {
          "output_type": "execute_result",
          "data": {
            "text/plain": [
              "Index(['mpg', 'cylinders', 'displacement', 'horsepower', 'weight',\n",
              "       'acceleration', 'model_year', 'name', 'origin_europe', 'origin_japan',\n",
              "       'origin_usa'],\n",
              "      dtype='object')"
            ]
          },
          "metadata": {
            "tags": []
          },
          "execution_count": 178
        }
      ]
    },
    {
      "cell_type": "code",
      "metadata": {
        "colab": {
          "base_uri": "https://localhost:8080/",
          "height": 599
        },
        "id": "frfAecP3YaCn",
        "outputId": "a242e90d-ee3a-4e12-ff32-4f4e9d875da4"
      },
      "source": [
        "lm = sm.OLS(mpg, features)\r\n",
        "results = lm.fit()\r\n",
        "results.summary()"
      ],
      "execution_count": 179,
      "outputs": [
        {
          "output_type": "execute_result",
          "data": {
            "text/html": [
              "<table class=\"simpletable\">\n",
              "<caption>OLS Regression Results</caption>\n",
              "<tr>\n",
              "  <th>Dep. Variable:</th>           <td>mpg</td>       <th>  R-squared:         </th> <td>   0.824</td> \n",
              "</tr>\n",
              "<tr>\n",
              "  <th>Model:</th>                   <td>OLS</td>       <th>  Adj. R-squared:    </th> <td>   0.821</td> \n",
              "</tr>\n",
              "<tr>\n",
              "  <th>Method:</th>             <td>Least Squares</td>  <th>  F-statistic:       </th> <td>   224.5</td> \n",
              "</tr>\n",
              "<tr>\n",
              "  <th>Date:</th>             <td>Sat, 09 Jan 2021</td> <th>  Prob (F-statistic):</th> <td>1.79e-139</td>\n",
              "</tr>\n",
              "<tr>\n",
              "  <th>Time:</th>                 <td>14:48:46</td>     <th>  Log-Likelihood:    </th> <td> -1020.5</td> \n",
              "</tr>\n",
              "<tr>\n",
              "  <th>No. Observations:</th>      <td>   392</td>      <th>  AIC:               </th> <td>   2059.</td> \n",
              "</tr>\n",
              "<tr>\n",
              "  <th>Df Residuals:</th>          <td>   383</td>      <th>  BIC:               </th> <td>   2095.</td> \n",
              "</tr>\n",
              "<tr>\n",
              "  <th>Df Model:</th>              <td>     8</td>      <th>                     </th>     <td> </td>    \n",
              "</tr>\n",
              "<tr>\n",
              "  <th>Covariance Type:</th>      <td>nonrobust</td>    <th>                     </th>     <td> </td>    \n",
              "</tr>\n",
              "</table>\n",
              "<table class=\"simpletable\">\n",
              "<tr>\n",
              "        <td></td>           <th>coef</th>     <th>std err</th>      <th>t</th>      <th>P>|t|</th>  <th>[0.025</th>    <th>0.975]</th>  \n",
              "</tr>\n",
              "<tr>\n",
              "  <th>cylinders</th>     <td>   -0.4897</td> <td>    0.321</td> <td>   -1.524</td> <td> 0.128</td> <td>   -1.121</td> <td>    0.142</td>\n",
              "</tr>\n",
              "<tr>\n",
              "  <th>displacement</th>  <td>    0.0240</td> <td>    0.008</td> <td>    3.133</td> <td> 0.002</td> <td>    0.009</td> <td>    0.039</td>\n",
              "</tr>\n",
              "<tr>\n",
              "  <th>horsepower</th>    <td>   -0.0182</td> <td>    0.014</td> <td>   -1.326</td> <td> 0.185</td> <td>   -0.045</td> <td>    0.009</td>\n",
              "</tr>\n",
              "<tr>\n",
              "  <th>weight</th>        <td>   -0.0067</td> <td>    0.001</td> <td>  -10.243</td> <td> 0.000</td> <td>   -0.008</td> <td>   -0.005</td>\n",
              "</tr>\n",
              "<tr>\n",
              "  <th>acceleration</th>  <td>    0.0791</td> <td>    0.098</td> <td>    0.805</td> <td> 0.421</td> <td>   -0.114</td> <td>    0.272</td>\n",
              "</tr>\n",
              "<tr>\n",
              "  <th>model_year</th>    <td>    0.7770</td> <td>    0.052</td> <td>   15.005</td> <td> 0.000</td> <td>    0.675</td> <td>    0.879</td>\n",
              "</tr>\n",
              "<tr>\n",
              "  <th>origin_europe</th> <td>  -15.3246</td> <td>    4.602</td> <td>   -3.330</td> <td> 0.001</td> <td>  -24.374</td> <td>   -6.276</td>\n",
              "</tr>\n",
              "<tr>\n",
              "  <th>origin_japan</th>  <td>  -15.1014</td> <td>    4.681</td> <td>   -3.226</td> <td> 0.001</td> <td>  -24.305</td> <td>   -5.898</td>\n",
              "</tr>\n",
              "<tr>\n",
              "  <th>origin_usa</th>    <td>  -17.9546</td> <td>    4.677</td> <td>   -3.839</td> <td> 0.000</td> <td>  -27.150</td> <td>   -8.759</td>\n",
              "</tr>\n",
              "</table>\n",
              "<table class=\"simpletable\">\n",
              "<tr>\n",
              "  <th>Omnibus:</th>       <td>23.395</td> <th>  Durbin-Watson:     </th> <td>   1.291</td>\n",
              "</tr>\n",
              "<tr>\n",
              "  <th>Prob(Omnibus):</th> <td> 0.000</td> <th>  Jarque-Bera (JB):  </th> <td>  34.452</td>\n",
              "</tr>\n",
              "<tr>\n",
              "  <th>Skew:</th>          <td> 0.444</td> <th>  Prob(JB):          </th> <td>3.30e-08</td>\n",
              "</tr>\n",
              "<tr>\n",
              "  <th>Kurtosis:</th>      <td> 4.150</td> <th>  Cond. No.          </th> <td>1.50e+05</td>\n",
              "</tr>\n",
              "</table><br/><br/>Warnings:<br/>[1] Standard Errors assume that the covariance matrix of the errors is correctly specified.<br/>[2] The condition number is large, 1.5e+05. This might indicate that there are<br/>strong multicollinearity or other numerical problems."
            ],
            "text/plain": [
              "<class 'statsmodels.iolib.summary.Summary'>\n",
              "\"\"\"\n",
              "                            OLS Regression Results                            \n",
              "==============================================================================\n",
              "Dep. Variable:                    mpg   R-squared:                       0.824\n",
              "Model:                            OLS   Adj. R-squared:                  0.821\n",
              "Method:                 Least Squares   F-statistic:                     224.5\n",
              "Date:                Sat, 09 Jan 2021   Prob (F-statistic):          1.79e-139\n",
              "Time:                        14:48:46   Log-Likelihood:                -1020.5\n",
              "No. Observations:                 392   AIC:                             2059.\n",
              "Df Residuals:                     383   BIC:                             2095.\n",
              "Df Model:                           8                                         \n",
              "Covariance Type:            nonrobust                                         \n",
              "=================================================================================\n",
              "                    coef    std err          t      P>|t|      [0.025      0.975]\n",
              "---------------------------------------------------------------------------------\n",
              "cylinders        -0.4897      0.321     -1.524      0.128      -1.121       0.142\n",
              "displacement      0.0240      0.008      3.133      0.002       0.009       0.039\n",
              "horsepower       -0.0182      0.014     -1.326      0.185      -0.045       0.009\n",
              "weight           -0.0067      0.001    -10.243      0.000      -0.008      -0.005\n",
              "acceleration      0.0791      0.098      0.805      0.421      -0.114       0.272\n",
              "model_year        0.7770      0.052     15.005      0.000       0.675       0.879\n",
              "origin_europe   -15.3246      4.602     -3.330      0.001     -24.374      -6.276\n",
              "origin_japan    -15.1014      4.681     -3.226      0.001     -24.305      -5.898\n",
              "origin_usa      -17.9546      4.677     -3.839      0.000     -27.150      -8.759\n",
              "==============================================================================\n",
              "Omnibus:                       23.395   Durbin-Watson:                   1.291\n",
              "Prob(Omnibus):                  0.000   Jarque-Bera (JB):               34.452\n",
              "Skew:                           0.444   Prob(JB):                     3.30e-08\n",
              "Kurtosis:                       4.150   Cond. No.                     1.50e+05\n",
              "==============================================================================\n",
              "\n",
              "Warnings:\n",
              "[1] Standard Errors assume that the covariance matrix of the errors is correctly specified.\n",
              "[2] The condition number is large, 1.5e+05. This might indicate that there are\n",
              "strong multicollinearity or other numerical problems.\n",
              "\"\"\""
            ]
          },
          "metadata": {
            "tags": []
          },
          "execution_count": 179
        }
      ]
    },
    {
      "cell_type": "code",
      "metadata": {
        "colab": {
          "base_uri": "https://localhost:8080/",
          "height": 314
        },
        "id": "EC5tpxrIZiAk",
        "outputId": "d5d793fc-e7a7-4b99-cbf2-87e38824e09e"
      },
      "source": [
        "vif = pd.DataFrame()\r\n",
        "vif[\"VIF Factor\"] = [variance_inflation_factor(features.values, i) for i in range(features.shape[1])]\r\n",
        "vif[\"features\"] = features.columns\r\n",
        "vif"
      ],
      "execution_count": 180,
      "outputs": [
        {
          "output_type": "execute_result",
          "data": {
            "text/html": [
              "<div>\n",
              "<style scoped>\n",
              "    .dataframe tbody tr th:only-of-type {\n",
              "        vertical-align: middle;\n",
              "    }\n",
              "\n",
              "    .dataframe tbody tr th {\n",
              "        vertical-align: top;\n",
              "    }\n",
              "\n",
              "    .dataframe thead th {\n",
              "        text-align: right;\n",
              "    }\n",
              "</style>\n",
              "<table border=\"1\" class=\"dataframe\">\n",
              "  <thead>\n",
              "    <tr style=\"text-align: right;\">\n",
              "      <th></th>\n",
              "      <th>VIF Factor</th>\n",
              "      <th>features</th>\n",
              "    </tr>\n",
              "  </thead>\n",
              "  <tbody>\n",
              "    <tr>\n",
              "      <th>0</th>\n",
              "      <td>10.737771</td>\n",
              "      <td>cylinders</td>\n",
              "    </tr>\n",
              "    <tr>\n",
              "      <th>1</th>\n",
              "      <td>22.937950</td>\n",
              "      <td>displacement</td>\n",
              "    </tr>\n",
              "    <tr>\n",
              "      <th>2</th>\n",
              "      <td>9.957265</td>\n",
              "      <td>horsepower</td>\n",
              "    </tr>\n",
              "    <tr>\n",
              "      <th>3</th>\n",
              "      <td>11.074349</td>\n",
              "      <td>weight</td>\n",
              "    </tr>\n",
              "    <tr>\n",
              "      <th>4</th>\n",
              "      <td>2.625906</td>\n",
              "      <td>acceleration</td>\n",
              "    </tr>\n",
              "    <tr>\n",
              "      <th>5</th>\n",
              "      <td>1.301373</td>\n",
              "      <td>model_year</td>\n",
              "    </tr>\n",
              "    <tr>\n",
              "      <th>6</th>\n",
              "      <td>131.742634</td>\n",
              "      <td>origin_europe</td>\n",
              "    </tr>\n",
              "    <tr>\n",
              "      <th>7</th>\n",
              "      <td>158.310491</td>\n",
              "      <td>origin_japan</td>\n",
              "    </tr>\n",
              "    <tr>\n",
              "      <th>8</th>\n",
              "      <td>490.166631</td>\n",
              "      <td>origin_usa</td>\n",
              "    </tr>\n",
              "  </tbody>\n",
              "</table>\n",
              "</div>"
            ],
            "text/plain": [
              "   VIF Factor       features\n",
              "0   10.737771      cylinders\n",
              "1   22.937950   displacement\n",
              "2    9.957265     horsepower\n",
              "3   11.074349         weight\n",
              "4    2.625906   acceleration\n",
              "5    1.301373     model_year\n",
              "6  131.742634  origin_europe\n",
              "7  158.310491   origin_japan\n",
              "8  490.166631     origin_usa"
            ]
          },
          "metadata": {
            "tags": []
          },
          "execution_count": 180
        }
      ]
    },
    {
      "cell_type": "markdown",
      "metadata": {
        "id": "l5qgRrcZo9Pr"
      },
      "source": [
        "VIF 크기가 가장 큰 origin_usa값을 제외한 나머지 값들로 다시 한번 회귀 모델을 적용시켜보았다.\r\n",
        "이전에 제가 VIF가 큰 값들 3개를 제거하고 모델을 만들어보니까 Adjusted R-Square 값이 너무 떨어져서 과제 제출할 때는 하나만 제거해서 제출하겠습니다."
      ]
    },
    {
      "cell_type": "code",
      "metadata": {
        "id": "ZrC0Muc8bSKo"
      },
      "source": [
        "features = mpg_encoded[['cylinders', 'displacement', 'horsepower', 'weight','acceleration', 'model_year','origin_europe','origin_japan']]\r\n",
        "mpg = mpg_encoded['mpg']"
      ],
      "execution_count": 181,
      "outputs": []
    },
    {
      "cell_type": "code",
      "metadata": {
        "id": "aFiVLgxkdBEf"
      },
      "source": [
        "a_ar2s=[]\r\n",
        "fitmodels2=[]"
      ],
      "execution_count": 189,
      "outputs": []
    },
    {
      "cell_type": "code",
      "metadata": {
        "id": "koCQSgf6dDiF"
      },
      "source": [
        "linear = linear_model.LinearRegression()\r\n",
        "fit_linear=linear.fit(features, mpg)\r\n",
        "r2 = fit_linear.score(features, mpg)\r\n",
        "ar2 = 1 - ((1 - r2)*(len(mpg) - 1)/(len(mpg) - features.shape[1] - 1))\r\n",
        "        \r\n",
        "a_ar2s.append(ar2)\r\n",
        "fitmodels2.append(fit_linear)"
      ],
      "execution_count": 190,
      "outputs": []
    },
    {
      "cell_type": "code",
      "metadata": {
        "id": "-yA2NBZRdF9O"
      },
      "source": [
        "ridge = linear_model.Ridge(alpha = 1.0)\r\n",
        "fit_linear=ridge.fit(features, mpg)\r\n",
        "r2 = fit_linear.score(features, mpg)\r\n",
        "ar2 = 1 - ((1 - r2)*(len(mpg) - 1)/(len(mpg) - features.shape[1] - 1))\r\n",
        "        \r\n",
        "a_ar2s.append(ar2)\r\n",
        "fitmodels2.append(fit_linear)"
      ],
      "execution_count": 191,
      "outputs": []
    },
    {
      "cell_type": "code",
      "metadata": {
        "id": "vxdtYnAPdHzY"
      },
      "source": [
        "lasso = linear_model.Lasso(alpha = 0.01, max_iter = 1000)\r\n",
        "fit_linear=lasso.fit(features, mpg)\r\n",
        "r2 = fit_linear.score(features, mpg)\r\n",
        "ar2 = 1 - ((1 - r2)*(len(mpg) - 1)/(len(mpg) - features.shape[1] - 1))\r\n",
        "        \r\n",
        "a_ar2s.append(ar2)\r\n",
        "fitmodels2.append(fit_linear)"
      ],
      "execution_count": 192,
      "outputs": []
    },
    {
      "cell_type": "code",
      "metadata": {
        "id": "Q4oDYEsadJyj"
      },
      "source": [
        "enet = linear_model.ElasticNet(alpha = 0.01, l1_ratio = 0.1)\r\n",
        "fit_linear=enet.fit(features, mpg)\r\n",
        "r2 = fit_linear.score(features, mpg)\r\n",
        "ar2 = 1 - ((1 - r2)*(len(mpg) - 1)/(len(mpg) - features.shape[1] - 1))\r\n",
        "        \r\n",
        "a_ar2s.append(ar2)\r\n",
        "fitmodels2.append(fit_linear)"
      ],
      "execution_count": 193,
      "outputs": []
    },
    {
      "cell_type": "code",
      "metadata": {
        "id": "L51htD91dL70"
      },
      "source": [
        " results2 = pd.DataFrame(data = a_ar2s, columns = ['Adjusted R-Square'], index = ['Linear', 'Ridge', 'Lasso', 'ElasticNet'])"
      ],
      "execution_count": 194,
      "outputs": []
    },
    {
      "cell_type": "code",
      "metadata": {
        "colab": {
          "base_uri": "https://localhost:8080/",
          "height": 166
        },
        "id": "GELi_bW9dOiT",
        "outputId": "d983f977-ad2b-4493-d12d-44f6f35dd893"
      },
      "source": [
        "results2"
      ],
      "execution_count": 195,
      "outputs": [
        {
          "output_type": "execute_result",
          "data": {
            "text/html": [
              "<div>\n",
              "<style scoped>\n",
              "    .dataframe tbody tr th:only-of-type {\n",
              "        vertical-align: middle;\n",
              "    }\n",
              "\n",
              "    .dataframe tbody tr th {\n",
              "        vertical-align: top;\n",
              "    }\n",
              "\n",
              "    .dataframe thead th {\n",
              "        text-align: right;\n",
              "    }\n",
              "</style>\n",
              "<table border=\"1\" class=\"dataframe\">\n",
              "  <thead>\n",
              "    <tr style=\"text-align: right;\">\n",
              "      <th></th>\n",
              "      <th>Adjusted R-Square</th>\n",
              "    </tr>\n",
              "  </thead>\n",
              "  <tbody>\n",
              "    <tr>\n",
              "      <th>Linear</th>\n",
              "      <td>0.820527</td>\n",
              "    </tr>\n",
              "    <tr>\n",
              "      <th>Ridge</th>\n",
              "      <td>0.820502</td>\n",
              "    </tr>\n",
              "    <tr>\n",
              "      <th>Lasso</th>\n",
              "      <td>0.820460</td>\n",
              "    </tr>\n",
              "    <tr>\n",
              "      <th>ElasticNet</th>\n",
              "      <td>0.820242</td>\n",
              "    </tr>\n",
              "  </tbody>\n",
              "</table>\n",
              "</div>"
            ],
            "text/plain": [
              "            Adjusted R-Square\n",
              "Linear               0.820527\n",
              "Ridge                0.820502\n",
              "Lasso                0.820460\n",
              "ElasticNet           0.820242"
            ]
          },
          "metadata": {
            "tags": []
          },
          "execution_count": 195
        }
      ]
    },
    {
      "cell_type": "code",
      "metadata": {
        "colab": {
          "base_uri": "https://localhost:8080/"
        },
        "id": "z7gwitXsdPMV",
        "outputId": "9dfbbe94-77a8-42ad-d53d-a92ad23b9bab"
      },
      "source": [
        "print(fitmodels2[0].coef_)"
      ],
      "execution_count": 196,
      "outputs": [
        {
          "output_type": "stream",
          "text": [
            "[-0.48970942  0.02397864 -0.01818346 -0.00671038  0.07910304  0.77702694\n",
            "  2.63000236  2.85322823]\n"
          ],
          "name": "stdout"
        }
      ]
    },
    {
      "cell_type": "markdown",
      "metadata": {
        "id": "E4y0vVSKeqwN"
      },
      "source": [
        "# **02. Concrete**"
      ]
    },
    {
      "cell_type": "markdown",
      "metadata": {
        "id": "dl7UnvwOpzxS"
      },
      "source": [
        "**02-1. 주어진 데이터를 이용하여 최적의 Concrete Compressive strength를 예측하는 모델을 만들 것입니다. Concrete compressive strength(MPa)를 예측하는 최적의 모델을 만드세요.**\r\n"
      ]
    },
    {
      "cell_type": "code",
      "metadata": {
        "id": "pfko_CyOe0Zm"
      },
      "source": [
        "import os\r\n",
        "os.chdir('/content/drive/My Drive/Colab Notebooks/2021_TNT Winter/2주차')"
      ],
      "execution_count": 197,
      "outputs": []
    },
    {
      "cell_type": "code",
      "metadata": {
        "id": "1B2KfHafeSsC"
      },
      "source": [
        "concrete_train=pd.read_csv('concrete_train.csv')\r\n",
        "concrete_test=pd.read_csv('concrete_test.csv')"
      ],
      "execution_count": 198,
      "outputs": []
    },
    {
      "cell_type": "code",
      "metadata": {
        "colab": {
          "base_uri": "https://localhost:8080/",
          "height": 438
        },
        "id": "_62RKRJje7rU",
        "outputId": "e6e5cdf7-f7b1-44fe-d836-7046f0c9cba4"
      },
      "source": [
        "concrete_train"
      ],
      "execution_count": 199,
      "outputs": [
        {
          "output_type": "execute_result",
          "data": {
            "text/html": [
              "<div>\n",
              "<style scoped>\n",
              "    .dataframe tbody tr th:only-of-type {\n",
              "        vertical-align: middle;\n",
              "    }\n",
              "\n",
              "    .dataframe tbody tr th {\n",
              "        vertical-align: top;\n",
              "    }\n",
              "\n",
              "    .dataframe thead th {\n",
              "        text-align: right;\n",
              "    }\n",
              "</style>\n",
              "<table border=\"1\" class=\"dataframe\">\n",
              "  <thead>\n",
              "    <tr style=\"text-align: right;\">\n",
              "      <th></th>\n",
              "      <th>Unnamed: 0</th>\n",
              "      <th>cement</th>\n",
              "      <th>slag</th>\n",
              "      <th>flyash</th>\n",
              "      <th>water</th>\n",
              "      <th>superplasticizer</th>\n",
              "      <th>coarseaggregate</th>\n",
              "      <th>fineaggregate</th>\n",
              "      <th>age</th>\n",
              "      <th>csMPa</th>\n",
              "    </tr>\n",
              "  </thead>\n",
              "  <tbody>\n",
              "    <tr>\n",
              "      <th>0</th>\n",
              "      <td>0</td>\n",
              "      <td>277.0</td>\n",
              "      <td>0.0</td>\n",
              "      <td>0.0</td>\n",
              "      <td>191.0</td>\n",
              "      <td>0.0</td>\n",
              "      <td>968.0</td>\n",
              "      <td>856.0</td>\n",
              "      <td>28</td>\n",
              "      <td>25.97</td>\n",
              "    </tr>\n",
              "    <tr>\n",
              "      <th>1</th>\n",
              "      <td>1</td>\n",
              "      <td>359.0</td>\n",
              "      <td>19.0</td>\n",
              "      <td>141.0</td>\n",
              "      <td>154.0</td>\n",
              "      <td>10.9</td>\n",
              "      <td>942.0</td>\n",
              "      <td>801.0</td>\n",
              "      <td>3</td>\n",
              "      <td>25.12</td>\n",
              "    </tr>\n",
              "    <tr>\n",
              "      <th>2</th>\n",
              "      <td>2</td>\n",
              "      <td>272.8</td>\n",
              "      <td>181.9</td>\n",
              "      <td>0.0</td>\n",
              "      <td>185.7</td>\n",
              "      <td>0.0</td>\n",
              "      <td>1012.4</td>\n",
              "      <td>714.3</td>\n",
              "      <td>28</td>\n",
              "      <td>31.38</td>\n",
              "    </tr>\n",
              "    <tr>\n",
              "      <th>3</th>\n",
              "      <td>3</td>\n",
              "      <td>366.0</td>\n",
              "      <td>187.0</td>\n",
              "      <td>0.0</td>\n",
              "      <td>191.0</td>\n",
              "      <td>7.0</td>\n",
              "      <td>824.0</td>\n",
              "      <td>757.0</td>\n",
              "      <td>28</td>\n",
              "      <td>65.91</td>\n",
              "    </tr>\n",
              "    <tr>\n",
              "      <th>4</th>\n",
              "      <td>4</td>\n",
              "      <td>212.6</td>\n",
              "      <td>0.0</td>\n",
              "      <td>100.4</td>\n",
              "      <td>159.4</td>\n",
              "      <td>10.4</td>\n",
              "      <td>1003.8</td>\n",
              "      <td>903.8</td>\n",
              "      <td>3</td>\n",
              "      <td>13.33</td>\n",
              "    </tr>\n",
              "    <tr>\n",
              "      <th>...</th>\n",
              "      <td>...</td>\n",
              "      <td>...</td>\n",
              "      <td>...</td>\n",
              "      <td>...</td>\n",
              "      <td>...</td>\n",
              "      <td>...</td>\n",
              "      <td>...</td>\n",
              "      <td>...</td>\n",
              "      <td>...</td>\n",
              "      <td>...</td>\n",
              "    </tr>\n",
              "    <tr>\n",
              "      <th>819</th>\n",
              "      <td>819</td>\n",
              "      <td>284.0</td>\n",
              "      <td>119.7</td>\n",
              "      <td>0.0</td>\n",
              "      <td>168.3</td>\n",
              "      <td>7.2</td>\n",
              "      <td>970.4</td>\n",
              "      <td>794.2</td>\n",
              "      <td>28</td>\n",
              "      <td>40.93</td>\n",
              "    </tr>\n",
              "    <tr>\n",
              "      <th>820</th>\n",
              "      <td>820</td>\n",
              "      <td>280.0</td>\n",
              "      <td>129.0</td>\n",
              "      <td>100.0</td>\n",
              "      <td>172.0</td>\n",
              "      <td>9.0</td>\n",
              "      <td>825.0</td>\n",
              "      <td>805.0</td>\n",
              "      <td>28</td>\n",
              "      <td>52.82</td>\n",
              "    </tr>\n",
              "    <tr>\n",
              "      <th>821</th>\n",
              "      <td>821</td>\n",
              "      <td>141.3</td>\n",
              "      <td>212.0</td>\n",
              "      <td>0.0</td>\n",
              "      <td>203.5</td>\n",
              "      <td>0.0</td>\n",
              "      <td>971.8</td>\n",
              "      <td>748.5</td>\n",
              "      <td>90</td>\n",
              "      <td>39.66</td>\n",
              "    </tr>\n",
              "    <tr>\n",
              "      <th>822</th>\n",
              "      <td>822</td>\n",
              "      <td>135.0</td>\n",
              "      <td>0.0</td>\n",
              "      <td>166.0</td>\n",
              "      <td>180.0</td>\n",
              "      <td>10.0</td>\n",
              "      <td>961.0</td>\n",
              "      <td>805.0</td>\n",
              "      <td>28</td>\n",
              "      <td>13.29</td>\n",
              "    </tr>\n",
              "    <tr>\n",
              "      <th>823</th>\n",
              "      <td>823</td>\n",
              "      <td>213.8</td>\n",
              "      <td>98.1</td>\n",
              "      <td>24.5</td>\n",
              "      <td>181.7</td>\n",
              "      <td>6.7</td>\n",
              "      <td>1066.0</td>\n",
              "      <td>785.5</td>\n",
              "      <td>14</td>\n",
              "      <td>17.84</td>\n",
              "    </tr>\n",
              "  </tbody>\n",
              "</table>\n",
              "<p>824 rows × 10 columns</p>\n",
              "</div>"
            ],
            "text/plain": [
              "     Unnamed: 0  cement   slag  ...  fineaggregate  age  csMPa\n",
              "0             0   277.0    0.0  ...          856.0   28  25.97\n",
              "1             1   359.0   19.0  ...          801.0    3  25.12\n",
              "2             2   272.8  181.9  ...          714.3   28  31.38\n",
              "3             3   366.0  187.0  ...          757.0   28  65.91\n",
              "4             4   212.6    0.0  ...          903.8    3  13.33\n",
              "..          ...     ...    ...  ...            ...  ...    ...\n",
              "819         819   284.0  119.7  ...          794.2   28  40.93\n",
              "820         820   280.0  129.0  ...          805.0   28  52.82\n",
              "821         821   141.3  212.0  ...          748.5   90  39.66\n",
              "822         822   135.0    0.0  ...          805.0   28  13.29\n",
              "823         823   213.8   98.1  ...          785.5   14  17.84\n",
              "\n",
              "[824 rows x 10 columns]"
            ]
          },
          "metadata": {
            "tags": []
          },
          "execution_count": 199
        }
      ]
    },
    {
      "cell_type": "code",
      "metadata": {
        "colab": {
          "base_uri": "https://localhost:8080/"
        },
        "id": "a1GhgHbHgGmY",
        "outputId": "9f87ad4b-bb7e-4c1b-e2fc-9af4a6c02306"
      },
      "source": [
        "concrete_train.info()"
      ],
      "execution_count": 200,
      "outputs": [
        {
          "output_type": "stream",
          "text": [
            "<class 'pandas.core.frame.DataFrame'>\n",
            "RangeIndex: 824 entries, 0 to 823\n",
            "Data columns (total 10 columns):\n",
            " #   Column            Non-Null Count  Dtype  \n",
            "---  ------            --------------  -----  \n",
            " 0   Unnamed: 0        824 non-null    int64  \n",
            " 1   cement            824 non-null    float64\n",
            " 2   slag              824 non-null    float64\n",
            " 3   flyash            824 non-null    float64\n",
            " 4   water             824 non-null    float64\n",
            " 5   superplasticizer  824 non-null    float64\n",
            " 6   coarseaggregate   824 non-null    float64\n",
            " 7   fineaggregate     824 non-null    float64\n",
            " 8   age               824 non-null    int64  \n",
            " 9   csMPa             824 non-null    float64\n",
            "dtypes: float64(8), int64(2)\n",
            "memory usage: 64.5 KB\n"
          ],
          "name": "stdout"
        }
      ]
    },
    {
      "cell_type": "code",
      "metadata": {
        "id": "1z7cw0h-e9Zl"
      },
      "source": [
        "features = concrete_train[['cement', 'slag', 'flyash', 'water', 'superplasticizer', 'coarseaggregate', 'fineaggregate', 'age']]\r\n",
        "csMPa = concrete_train['csMPa']"
      ],
      "execution_count": 201,
      "outputs": []
    },
    {
      "cell_type": "code",
      "metadata": {
        "id": "Q-lHiZYHfRO0"
      },
      "source": [
        "a_ar2s=[]\r\n",
        "fitmodels3=[]"
      ],
      "execution_count": 202,
      "outputs": []
    },
    {
      "cell_type": "code",
      "metadata": {
        "id": "Mvn7jZNsf29s"
      },
      "source": [
        "linear = linear_model.LinearRegression()\r\n",
        "fit_linear=linear.fit(features, csMPa)\r\n",
        "r2 = fit_linear.score(features, csMPa)\r\n",
        "ar2 = 1 - ((1 - r2)*(len(csMPa) - 1)/(len(csMPa) - features.shape[1] - 1))\r\n",
        "        \r\n",
        "a_ar2s.append(ar2)\r\n",
        "fitmodels3.append(fit_linear)"
      ],
      "execution_count": 203,
      "outputs": []
    },
    {
      "cell_type": "code",
      "metadata": {
        "id": "YRNoOZJ6f5e4"
      },
      "source": [
        "ridge = linear_model.Ridge(alpha = 1.0)\r\n",
        "fit_linear=ridge.fit(features, csMPa)\r\n",
        "r2 = fit_linear.score(features, csMPa)\r\n",
        "ar2 = 1 - ((1 - r2)*(len(csMPa) - 1)/(len(csMPa) - features.shape[1] - 1))\r\n",
        "        \r\n",
        "a_ar2s.append(ar2)\r\n",
        "fitmodels3.append(fit_linear)"
      ],
      "execution_count": 204,
      "outputs": []
    },
    {
      "cell_type": "code",
      "metadata": {
        "id": "td7Pxifygfax"
      },
      "source": [
        "lasso = linear_model.Lasso(alpha = 0.01, max_iter = 1000)\r\n",
        "fit_linear=lasso.fit(features, csMPa)\r\n",
        "r2 = fit_linear.score(features, csMPa)\r\n",
        "ar2 = 1 - ((1 - r2)*(len(csMPa) - 1)/(len(csMPa) - features.shape[1] - 1))\r\n",
        "        \r\n",
        "a_ar2s.append(ar2)\r\n",
        "fitmodels3.append(fit_linear)"
      ],
      "execution_count": 205,
      "outputs": []
    },
    {
      "cell_type": "code",
      "metadata": {
        "id": "BuT7smr_gkkD"
      },
      "source": [
        "enet = linear_model.ElasticNet(alpha = 0.01, l1_ratio = 0.1)\r\n",
        "fit_linear=enet.fit(features, csMPa)\r\n",
        "r2 = fit_linear.score(features, csMPa)\r\n",
        "ar2 = 1 - ((1 - r2)*(len(csMPa) - 1)/(len(csMPa) - features.shape[1] - 1))\r\n",
        "        \r\n",
        "a_ar2s.append(ar2)\r\n",
        "fitmodels3.append(fit_linear)"
      ],
      "execution_count": 206,
      "outputs": []
    },
    {
      "cell_type": "code",
      "metadata": {
        "id": "s14aQyCTgog5"
      },
      "source": [
        " results3 = pd.DataFrame(data = a_ar2s, columns = ['Adjusted R-Square'], index = ['Linear', 'Ridge', 'Lasso', 'ElasticNet'])"
      ],
      "execution_count": 208,
      "outputs": []
    },
    {
      "cell_type": "code",
      "metadata": {
        "colab": {
          "base_uri": "https://localhost:8080/",
          "height": 166
        },
        "id": "NATckhiygsRp",
        "outputId": "47718e36-c8d8-488a-8b6f-95b171f34800"
      },
      "source": [
        "results3"
      ],
      "execution_count": 209,
      "outputs": [
        {
          "output_type": "execute_result",
          "data": {
            "text/html": [
              "<div>\n",
              "<style scoped>\n",
              "    .dataframe tbody tr th:only-of-type {\n",
              "        vertical-align: middle;\n",
              "    }\n",
              "\n",
              "    .dataframe tbody tr th {\n",
              "        vertical-align: top;\n",
              "    }\n",
              "\n",
              "    .dataframe thead th {\n",
              "        text-align: right;\n",
              "    }\n",
              "</style>\n",
              "<table border=\"1\" class=\"dataframe\">\n",
              "  <thead>\n",
              "    <tr style=\"text-align: right;\">\n",
              "      <th></th>\n",
              "      <th>Adjusted R-Square</th>\n",
              "    </tr>\n",
              "  </thead>\n",
              "  <tbody>\n",
              "    <tr>\n",
              "      <th>Linear</th>\n",
              "      <td>0.630166</td>\n",
              "    </tr>\n",
              "    <tr>\n",
              "      <th>Ridge</th>\n",
              "      <td>0.630166</td>\n",
              "    </tr>\n",
              "    <tr>\n",
              "      <th>Lasso</th>\n",
              "      <td>0.630166</td>\n",
              "    </tr>\n",
              "    <tr>\n",
              "      <th>ElasticNet</th>\n",
              "      <td>0.630166</td>\n",
              "    </tr>\n",
              "  </tbody>\n",
              "</table>\n",
              "</div>"
            ],
            "text/plain": [
              "            Adjusted R-Square\n",
              "Linear               0.630166\n",
              "Ridge                0.630166\n",
              "Lasso                0.630166\n",
              "ElasticNet           0.630166"
            ]
          },
          "metadata": {
            "tags": []
          },
          "execution_count": 209
        }
      ]
    },
    {
      "cell_type": "markdown",
      "metadata": {
        "id": "FrOwEjEcqO4c"
      },
      "source": [
        "간단한 전처리를 진행한 데이터로 선형회귀, 릿지, 라쏘, 엘라스틱넷을 이용해서 Adjusted R-Square를 구해본 결과는 다 같지만 결과가 그렇게 좋지 않아보인다. VIF를 확인해보야할 것 같다."
      ]
    },
    {
      "cell_type": "markdown",
      "metadata": {
        "id": "CXNZwKqEqnv-"
      },
      "source": [
        "**02-2. 1)에서 만든 모델을 이용하여 Mpa와 각각 변수간의 관계를 설명하세요.**\r\n"
      ]
    },
    {
      "cell_type": "code",
      "metadata": {
        "colab": {
          "base_uri": "https://localhost:8080/"
        },
        "id": "W6hCqv5Vqs__",
        "outputId": "1c4d62e2-2403-4819-c522-96dd66b6fec8"
      },
      "source": [
        "print(fitmodels3[0].coef_)"
      ],
      "execution_count": 210,
      "outputs": [
        {
          "output_type": "stream",
          "text": [
            "[ 0.12424381  0.10766686  0.091274   -0.13804472  0.36192166  0.01718424\n",
            "  0.01984496  0.12008255]\n"
          ],
          "name": "stdout"
        }
      ]
    },
    {
      "cell_type": "markdown",
      "metadata": {
        "id": "2eBPl10FqyYR"
      },
      "source": [
        "water feature만 cmMPa와 반비례 관계를 가지고 나머지 feature들은 값이 증가할 수록 csMPa도 증가하는 관계를 갖고 있는 것을 확인 할 수 있다. csMPa에 가장 영향을 많이 주는 feature는 superplasticizer로 이 feature가 1 증가하면 csMPa는 0.36만큼 증가하는 것을 알 수 있다."
      ]
    },
    {
      "cell_type": "code",
      "metadata": {
        "colab": {
          "base_uri": "https://localhost:8080/",
          "height": 546
        },
        "id": "gBX6Tzqugs3Z",
        "outputId": "544c7d5c-545b-40ae-cb04-b5787f57aab4"
      },
      "source": [
        "lm = sm.OLS(csMPa, features)\r\n",
        "results = lm.fit()\r\n",
        "results.summary()"
      ],
      "execution_count": 211,
      "outputs": [
        {
          "output_type": "execute_result",
          "data": {
            "text/html": [
              "<table class=\"simpletable\">\n",
              "<caption>OLS Regression Results</caption>\n",
              "<tr>\n",
              "  <th>Dep. Variable:</th>          <td>csMPa</td>      <th>  R-squared (uncentered):</th>      <td>   0.933</td>\n",
              "</tr>\n",
              "<tr>\n",
              "  <th>Model:</th>                   <td>OLS</td>       <th>  Adj. R-squared (uncentered):</th> <td>   0.932</td>\n",
              "</tr>\n",
              "<tr>\n",
              "  <th>Method:</th>             <td>Least Squares</td>  <th>  F-statistic:       </th>          <td>   1411.</td>\n",
              "</tr>\n",
              "<tr>\n",
              "  <th>Date:</th>             <td>Sat, 09 Jan 2021</td> <th>  Prob (F-statistic):</th>           <td>  0.00</td> \n",
              "</tr>\n",
              "<tr>\n",
              "  <th>Time:</th>                 <td>15:04:38</td>     <th>  Log-Likelihood:    </th>          <td> -3081.0</td>\n",
              "</tr>\n",
              "<tr>\n",
              "  <th>No. Observations:</th>      <td>   824</td>      <th>  AIC:               </th>          <td>   6178.</td>\n",
              "</tr>\n",
              "<tr>\n",
              "  <th>Df Residuals:</th>          <td>   816</td>      <th>  BIC:               </th>          <td>   6216.</td>\n",
              "</tr>\n",
              "<tr>\n",
              "  <th>Df Model:</th>              <td>     8</td>      <th>                     </th>              <td> </td>   \n",
              "</tr>\n",
              "<tr>\n",
              "  <th>Covariance Type:</th>      <td>nonrobust</td>    <th>                     </th>              <td> </td>   \n",
              "</tr>\n",
              "</table>\n",
              "<table class=\"simpletable\">\n",
              "<tr>\n",
              "          <td></td>            <th>coef</th>     <th>std err</th>      <th>t</th>      <th>P>|t|</th>  <th>[0.025</th>    <th>0.975]</th>  \n",
              "</tr>\n",
              "<tr>\n",
              "  <th>cement</th>           <td>    0.1168</td> <td>    0.005</td> <td>   25.347</td> <td> 0.000</td> <td>    0.108</td> <td>    0.126</td>\n",
              "</tr>\n",
              "<tr>\n",
              "  <th>slag</th>             <td>    0.0989</td> <td>    0.006</td> <td>   17.354</td> <td> 0.000</td> <td>    0.088</td> <td>    0.110</td>\n",
              "</tr>\n",
              "<tr>\n",
              "  <th>flyash</th>           <td>    0.0815</td> <td>    0.009</td> <td>    9.301</td> <td> 0.000</td> <td>    0.064</td> <td>    0.099</td>\n",
              "</tr>\n",
              "<tr>\n",
              "  <th>water</th>            <td>   -0.1744</td> <td>    0.017</td> <td>   -9.984</td> <td> 0.000</td> <td>   -0.209</td> <td>   -0.140</td>\n",
              "</tr>\n",
              "<tr>\n",
              "  <th>superplasticizer</th> <td>    0.3326</td> <td>    0.099</td> <td>    3.359</td> <td> 0.001</td> <td>    0.138</td> <td>    0.527</td>\n",
              "</tr>\n",
              "<tr>\n",
              "  <th>coarseaggregate</th>  <td>    0.0083</td> <td>    0.003</td> <td>    2.422</td> <td> 0.016</td> <td>    0.002</td> <td>    0.015</td>\n",
              "</tr>\n",
              "<tr>\n",
              "  <th>fineaggregate</th>    <td>    0.0096</td> <td>    0.004</td> <td>    2.445</td> <td> 0.015</td> <td>    0.002</td> <td>    0.017</td>\n",
              "</tr>\n",
              "<tr>\n",
              "  <th>age</th>              <td>    0.1199</td> <td>    0.006</td> <td>   19.587</td> <td> 0.000</td> <td>    0.108</td> <td>    0.132</td>\n",
              "</tr>\n",
              "</table>\n",
              "<table class=\"simpletable\">\n",
              "<tr>\n",
              "  <th>Omnibus:</th>       <td> 9.423</td> <th>  Durbin-Watson:     </th> <td>   1.921</td>\n",
              "</tr>\n",
              "<tr>\n",
              "  <th>Prob(Omnibus):</th> <td> 0.009</td> <th>  Jarque-Bera (JB):  </th> <td>   9.386</td>\n",
              "</tr>\n",
              "<tr>\n",
              "  <th>Skew:</th>          <td>-0.252</td> <th>  Prob(JB):          </th> <td> 0.00916</td>\n",
              "</tr>\n",
              "<tr>\n",
              "  <th>Kurtosis:</th>      <td> 3.137</td> <th>  Cond. No.          </th> <td>    363.</td>\n",
              "</tr>\n",
              "</table><br/><br/>Warnings:<br/>[1] Standard Errors assume that the covariance matrix of the errors is correctly specified."
            ],
            "text/plain": [
              "<class 'statsmodels.iolib.summary.Summary'>\n",
              "\"\"\"\n",
              "                                 OLS Regression Results                                \n",
              "=======================================================================================\n",
              "Dep. Variable:                  csMPa   R-squared (uncentered):                   0.933\n",
              "Model:                            OLS   Adj. R-squared (uncentered):              0.932\n",
              "Method:                 Least Squares   F-statistic:                              1411.\n",
              "Date:                Sat, 09 Jan 2021   Prob (F-statistic):                        0.00\n",
              "Time:                        15:04:38   Log-Likelihood:                         -3081.0\n",
              "No. Observations:                 824   AIC:                                      6178.\n",
              "Df Residuals:                     816   BIC:                                      6216.\n",
              "Df Model:                           8                                                  \n",
              "Covariance Type:            nonrobust                                                  \n",
              "====================================================================================\n",
              "                       coef    std err          t      P>|t|      [0.025      0.975]\n",
              "------------------------------------------------------------------------------------\n",
              "cement               0.1168      0.005     25.347      0.000       0.108       0.126\n",
              "slag                 0.0989      0.006     17.354      0.000       0.088       0.110\n",
              "flyash               0.0815      0.009      9.301      0.000       0.064       0.099\n",
              "water               -0.1744      0.017     -9.984      0.000      -0.209      -0.140\n",
              "superplasticizer     0.3326      0.099      3.359      0.001       0.138       0.527\n",
              "coarseaggregate      0.0083      0.003      2.422      0.016       0.002       0.015\n",
              "fineaggregate        0.0096      0.004      2.445      0.015       0.002       0.017\n",
              "age                  0.1199      0.006     19.587      0.000       0.108       0.132\n",
              "==============================================================================\n",
              "Omnibus:                        9.423   Durbin-Watson:                   1.921\n",
              "Prob(Omnibus):                  0.009   Jarque-Bera (JB):                9.386\n",
              "Skew:                          -0.252   Prob(JB):                      0.00916\n",
              "Kurtosis:                       3.137   Cond. No.                         363.\n",
              "==============================================================================\n",
              "\n",
              "Warnings:\n",
              "[1] Standard Errors assume that the covariance matrix of the errors is correctly specified.\n",
              "\"\"\""
            ]
          },
          "metadata": {
            "tags": []
          },
          "execution_count": 211
        }
      ]
    },
    {
      "cell_type": "code",
      "metadata": {
        "colab": {
          "base_uri": "https://localhost:8080/",
          "height": 284
        },
        "id": "Qeyq4u4Ng2wA",
        "outputId": "cb92cc18-5803-49de-e616-e4719830667c"
      },
      "source": [
        "vif = pd.DataFrame()\r\n",
        "vif[\"VIF Factor\"] = [variance_inflation_factor(features.values, i) for i in range(features.shape[1])]\r\n",
        "vif[\"features\"] = features.columns\r\n",
        "vif"
      ],
      "execution_count": 212,
      "outputs": [
        {
          "output_type": "execute_result",
          "data": {
            "text/html": [
              "<div>\n",
              "<style scoped>\n",
              "    .dataframe tbody tr th:only-of-type {\n",
              "        vertical-align: middle;\n",
              "    }\n",
              "\n",
              "    .dataframe tbody tr th {\n",
              "        vertical-align: top;\n",
              "    }\n",
              "\n",
              "    .dataframe thead th {\n",
              "        text-align: right;\n",
              "    }\n",
              "</style>\n",
              "<table border=\"1\" class=\"dataframe\">\n",
              "  <thead>\n",
              "    <tr style=\"text-align: right;\">\n",
              "      <th></th>\n",
              "      <th>VIF Factor</th>\n",
              "      <th>features</th>\n",
              "    </tr>\n",
              "  </thead>\n",
              "  <tbody>\n",
              "    <tr>\n",
              "      <th>0</th>\n",
              "      <td>14.902703</td>\n",
              "      <td>cement</td>\n",
              "    </tr>\n",
              "    <tr>\n",
              "      <th>1</th>\n",
              "      <td>3.173922</td>\n",
              "      <td>slag</td>\n",
              "    </tr>\n",
              "    <tr>\n",
              "      <th>2</th>\n",
              "      <td>4.294063</td>\n",
              "      <td>flyash</td>\n",
              "    </tr>\n",
              "    <tr>\n",
              "      <th>3</th>\n",
              "      <td>80.312043</td>\n",
              "      <td>water</td>\n",
              "    </tr>\n",
              "    <tr>\n",
              "      <th>4</th>\n",
              "      <td>5.381436</td>\n",
              "      <td>superplasticizer</td>\n",
              "    </tr>\n",
              "    <tr>\n",
              "      <th>5</th>\n",
              "      <td>88.239411</td>\n",
              "      <td>coarseaggregate</td>\n",
              "    </tr>\n",
              "    <tr>\n",
              "      <th>6</th>\n",
              "      <td>74.420410</td>\n",
              "      <td>fineaggregate</td>\n",
              "    </tr>\n",
              "    <tr>\n",
              "      <th>7</th>\n",
              "      <td>1.671114</td>\n",
              "      <td>age</td>\n",
              "    </tr>\n",
              "  </tbody>\n",
              "</table>\n",
              "</div>"
            ],
            "text/plain": [
              "   VIF Factor          features\n",
              "0   14.902703            cement\n",
              "1    3.173922              slag\n",
              "2    4.294063            flyash\n",
              "3   80.312043             water\n",
              "4    5.381436  superplasticizer\n",
              "5   88.239411   coarseaggregate\n",
              "6   74.420410     fineaggregate\n",
              "7    1.671114               age"
            ]
          },
          "metadata": {
            "tags": []
          },
          "execution_count": 212
        }
      ]
    },
    {
      "cell_type": "markdown",
      "metadata": {
        "id": "MV8v2Zsbrads"
      },
      "source": [
        "가장 VIF가 큰 coarseaggregate를 제외하고 모델을 만들어 결과를 만들어 보았다."
      ]
    },
    {
      "cell_type": "code",
      "metadata": {
        "id": "iOECicnWg-zp"
      },
      "source": [
        "features = concrete_train[['cement', 'slag', 'flyash', 'superplasticizer', 'coarseaggregate','fineaggregate','age']]\r\n",
        "csMPa = concrete_train['csMPa']"
      ],
      "execution_count": 213,
      "outputs": []
    },
    {
      "cell_type": "code",
      "metadata": {
        "id": "oPtZulzGhWIC"
      },
      "source": [
        "a_ar2s=[]\r\n",
        "fitmodels4=[]"
      ],
      "execution_count": 214,
      "outputs": []
    },
    {
      "cell_type": "code",
      "metadata": {
        "id": "yb_00SvrhLac"
      },
      "source": [
        "linear = linear_model.LinearRegression()\r\n",
        "fit_linear=linear.fit(features, csMPa)\r\n",
        "r2 = fit_linear.score(features, csMPa)\r\n",
        "ar2 = 1 - ((1 - r2)*(len(csMPa) - 1)/(len(csMPa) - features.shape[1] - 1))\r\n",
        "        \r\n",
        "a_ar2s.append(ar2)\r\n",
        "fitmodels4.append(fit_linear)"
      ],
      "execution_count": 215,
      "outputs": []
    },
    {
      "cell_type": "code",
      "metadata": {
        "id": "xWJGpLqIhNaa"
      },
      "source": [
        "ridge = linear_model.Ridge(alpha = 1.0)\r\n",
        "fit_linear=ridge.fit(features, csMPa)\r\n",
        "r2 = fit_linear.score(features, csMPa)\r\n",
        "ar2 = 1 - ((1 - r2)*(len(csMPa) - 1)/(len(csMPa) - features.shape[1] - 1))\r\n",
        "        \r\n",
        "a_ar2s.append(ar2)\r\n",
        "fitmodels4.append(fit_linear)"
      ],
      "execution_count": 216,
      "outputs": []
    },
    {
      "cell_type": "code",
      "metadata": {
        "id": "3QnTJmcLhPG5"
      },
      "source": [
        "lasso = linear_model.Lasso(alpha = 0.01, max_iter = 1000)\r\n",
        "fit_linear=lasso.fit(features, csMPa)\r\n",
        "r2 = fit_linear.score(features, csMPa)\r\n",
        "ar2 = 1 - ((1 - r2)*(len(csMPa) - 1)/(len(csMPa) - features.shape[1] - 1))\r\n",
        "        \r\n",
        "a_ar2s.append(ar2)\r\n",
        "fitmodels4.append(fit_linear)"
      ],
      "execution_count": 217,
      "outputs": []
    },
    {
      "cell_type": "code",
      "metadata": {
        "id": "05cwNafjhQtB"
      },
      "source": [
        "enet = linear_model.ElasticNet(alpha = 0.01, l1_ratio = 0.1)\r\n",
        "fit_linear=enet.fit(features, csMPa)\r\n",
        "r2 = fit_linear.score(features, csMPa)\r\n",
        "ar2 = 1 - ((1 - r2)*(len(csMPa) - 1)/(len(csMPa) - features.shape[1] - 1))\r\n",
        "        \r\n",
        "a_ar2s.append(ar2)\r\n",
        "fitmodels4.append(fit_linear)"
      ],
      "execution_count": 218,
      "outputs": []
    },
    {
      "cell_type": "code",
      "metadata": {
        "id": "6uRTsPffhSba"
      },
      "source": [
        " results4 = pd.DataFrame(data = a_ar2s, columns = ['Adjusted R-Square'], index = ['Linear', 'Ridge', 'Lasso', 'ElasticNet'])"
      ],
      "execution_count": 219,
      "outputs": []
    },
    {
      "cell_type": "code",
      "metadata": {
        "colab": {
          "base_uri": "https://localhost:8080/",
          "height": 166
        },
        "id": "Q4MxlDzKhUk1",
        "outputId": "db992ec1-9697-412b-d943-cd2f3d53068e"
      },
      "source": [
        "results4"
      ],
      "execution_count": 220,
      "outputs": [
        {
          "output_type": "execute_result",
          "data": {
            "text/html": [
              "<div>\n",
              "<style scoped>\n",
              "    .dataframe tbody tr th:only-of-type {\n",
              "        vertical-align: middle;\n",
              "    }\n",
              "\n",
              "    .dataframe tbody tr th {\n",
              "        vertical-align: top;\n",
              "    }\n",
              "\n",
              "    .dataframe thead th {\n",
              "        text-align: right;\n",
              "    }\n",
              "</style>\n",
              "<table border=\"1\" class=\"dataframe\">\n",
              "  <thead>\n",
              "    <tr style=\"text-align: right;\">\n",
              "      <th></th>\n",
              "      <th>Adjusted R-Square</th>\n",
              "    </tr>\n",
              "  </thead>\n",
              "  <tbody>\n",
              "    <tr>\n",
              "      <th>Linear</th>\n",
              "      <td>0.625903</td>\n",
              "    </tr>\n",
              "    <tr>\n",
              "      <th>Ridge</th>\n",
              "      <td>0.625903</td>\n",
              "    </tr>\n",
              "    <tr>\n",
              "      <th>Lasso</th>\n",
              "      <td>0.625903</td>\n",
              "    </tr>\n",
              "    <tr>\n",
              "      <th>ElasticNet</th>\n",
              "      <td>0.625903</td>\n",
              "    </tr>\n",
              "  </tbody>\n",
              "</table>\n",
              "</div>"
            ],
            "text/plain": [
              "            Adjusted R-Square\n",
              "Linear               0.625903\n",
              "Ridge                0.625903\n",
              "Lasso                0.625903\n",
              "ElasticNet           0.625903"
            ]
          },
          "metadata": {
            "tags": []
          },
          "execution_count": 220
        }
      ]
    },
    {
      "cell_type": "code",
      "metadata": {
        "colab": {
          "base_uri": "https://localhost:8080/"
        },
        "id": "7_UpS8PUhaXT",
        "outputId": "276911c6-ca9e-44f1-ae84-dab114f032ea"
      },
      "source": [
        "print(fitmodels4[0].coef_)"
      ],
      "execution_count": 221,
      "outputs": [
        {
          "output_type": "stream",
          "text": [
            "[0.14505279 0.13139637 0.11790499 0.5276255  0.0436521  0.04994938\n",
            " 0.11874011]\n"
          ],
          "name": "stdout"
        }
      ]
    },
    {
      "cell_type": "markdown",
      "metadata": {
        "id": "62y7AfXphtvK"
      },
      "source": [
        "**02-3. 1)에서 만든 모델의 test_mse를 구하세요.**"
      ]
    },
    {
      "cell_type": "code",
      "metadata": {
        "colab": {
          "base_uri": "https://localhost:8080/",
          "height": 438
        },
        "id": "NJ4i4IgChqGw",
        "outputId": "d28f3e21-e161-4bac-8c4b-da3ff8eaf6d3"
      },
      "source": [
        "concrete_test"
      ],
      "execution_count": 222,
      "outputs": [
        {
          "output_type": "execute_result",
          "data": {
            "text/html": [
              "<div>\n",
              "<style scoped>\n",
              "    .dataframe tbody tr th:only-of-type {\n",
              "        vertical-align: middle;\n",
              "    }\n",
              "\n",
              "    .dataframe tbody tr th {\n",
              "        vertical-align: top;\n",
              "    }\n",
              "\n",
              "    .dataframe thead th {\n",
              "        text-align: right;\n",
              "    }\n",
              "</style>\n",
              "<table border=\"1\" class=\"dataframe\">\n",
              "  <thead>\n",
              "    <tr style=\"text-align: right;\">\n",
              "      <th></th>\n",
              "      <th>Unnamed: 0</th>\n",
              "      <th>cement</th>\n",
              "      <th>slag</th>\n",
              "      <th>flyash</th>\n",
              "      <th>water</th>\n",
              "      <th>superplasticizer</th>\n",
              "      <th>coarseaggregate</th>\n",
              "      <th>fineaggregate</th>\n",
              "      <th>age</th>\n",
              "      <th>csMPa</th>\n",
              "    </tr>\n",
              "  </thead>\n",
              "  <tbody>\n",
              "    <tr>\n",
              "      <th>0</th>\n",
              "      <td>0</td>\n",
              "      <td>297.2</td>\n",
              "      <td>0.0</td>\n",
              "      <td>117.5</td>\n",
              "      <td>174.8</td>\n",
              "      <td>9.5</td>\n",
              "      <td>1022.8</td>\n",
              "      <td>753.5</td>\n",
              "      <td>3</td>\n",
              "      <td>21.91</td>\n",
              "    </tr>\n",
              "    <tr>\n",
              "      <th>1</th>\n",
              "      <td>1</td>\n",
              "      <td>238.1</td>\n",
              "      <td>0.0</td>\n",
              "      <td>94.1</td>\n",
              "      <td>186.7</td>\n",
              "      <td>7.0</td>\n",
              "      <td>949.9</td>\n",
              "      <td>847.0</td>\n",
              "      <td>3</td>\n",
              "      <td>19.93</td>\n",
              "    </tr>\n",
              "    <tr>\n",
              "      <th>2</th>\n",
              "      <td>2</td>\n",
              "      <td>140.0</td>\n",
              "      <td>133.0</td>\n",
              "      <td>103.0</td>\n",
              "      <td>200.0</td>\n",
              "      <td>7.0</td>\n",
              "      <td>916.0</td>\n",
              "      <td>753.0</td>\n",
              "      <td>28</td>\n",
              "      <td>36.44</td>\n",
              "    </tr>\n",
              "    <tr>\n",
              "      <th>3</th>\n",
              "      <td>3</td>\n",
              "      <td>203.5</td>\n",
              "      <td>135.7</td>\n",
              "      <td>0.0</td>\n",
              "      <td>185.7</td>\n",
              "      <td>0.0</td>\n",
              "      <td>1076.2</td>\n",
              "      <td>759.3</td>\n",
              "      <td>7</td>\n",
              "      <td>11.96</td>\n",
              "    </tr>\n",
              "    <tr>\n",
              "      <th>4</th>\n",
              "      <td>4</td>\n",
              "      <td>162.0</td>\n",
              "      <td>207.0</td>\n",
              "      <td>172.0</td>\n",
              "      <td>216.0</td>\n",
              "      <td>10.0</td>\n",
              "      <td>822.0</td>\n",
              "      <td>638.0</td>\n",
              "      <td>28</td>\n",
              "      <td>39.84</td>\n",
              "    </tr>\n",
              "    <tr>\n",
              "      <th>...</th>\n",
              "      <td>...</td>\n",
              "      <td>...</td>\n",
              "      <td>...</td>\n",
              "      <td>...</td>\n",
              "      <td>...</td>\n",
              "      <td>...</td>\n",
              "      <td>...</td>\n",
              "      <td>...</td>\n",
              "      <td>...</td>\n",
              "      <td>...</td>\n",
              "    </tr>\n",
              "    <tr>\n",
              "      <th>201</th>\n",
              "      <td>201</td>\n",
              "      <td>212.5</td>\n",
              "      <td>0.0</td>\n",
              "      <td>100.4</td>\n",
              "      <td>159.3</td>\n",
              "      <td>8.7</td>\n",
              "      <td>1007.8</td>\n",
              "      <td>903.6</td>\n",
              "      <td>100</td>\n",
              "      <td>42.92</td>\n",
              "    </tr>\n",
              "    <tr>\n",
              "      <th>202</th>\n",
              "      <td>202</td>\n",
              "      <td>255.0</td>\n",
              "      <td>0.0</td>\n",
              "      <td>0.0</td>\n",
              "      <td>192.0</td>\n",
              "      <td>0.0</td>\n",
              "      <td>889.8</td>\n",
              "      <td>945.0</td>\n",
              "      <td>3</td>\n",
              "      <td>8.20</td>\n",
              "    </tr>\n",
              "    <tr>\n",
              "      <th>203</th>\n",
              "      <td>203</td>\n",
              "      <td>359.0</td>\n",
              "      <td>19.0</td>\n",
              "      <td>141.0</td>\n",
              "      <td>154.0</td>\n",
              "      <td>10.9</td>\n",
              "      <td>942.0</td>\n",
              "      <td>801.0</td>\n",
              "      <td>7</td>\n",
              "      <td>38.61</td>\n",
              "    </tr>\n",
              "    <tr>\n",
              "      <th>204</th>\n",
              "      <td>204</td>\n",
              "      <td>310.0</td>\n",
              "      <td>0.0</td>\n",
              "      <td>0.0</td>\n",
              "      <td>192.0</td>\n",
              "      <td>0.0</td>\n",
              "      <td>970.0</td>\n",
              "      <td>850.0</td>\n",
              "      <td>90</td>\n",
              "      <td>34.68</td>\n",
              "    </tr>\n",
              "    <tr>\n",
              "      <th>205</th>\n",
              "      <td>205</td>\n",
              "      <td>332.5</td>\n",
              "      <td>142.5</td>\n",
              "      <td>0.0</td>\n",
              "      <td>228.0</td>\n",
              "      <td>0.0</td>\n",
              "      <td>932.0</td>\n",
              "      <td>594.0</td>\n",
              "      <td>180</td>\n",
              "      <td>39.78</td>\n",
              "    </tr>\n",
              "  </tbody>\n",
              "</table>\n",
              "<p>206 rows × 10 columns</p>\n",
              "</div>"
            ],
            "text/plain": [
              "     Unnamed: 0  cement   slag  ...  fineaggregate  age  csMPa\n",
              "0             0   297.2    0.0  ...          753.5    3  21.91\n",
              "1             1   238.1    0.0  ...          847.0    3  19.93\n",
              "2             2   140.0  133.0  ...          753.0   28  36.44\n",
              "3             3   203.5  135.7  ...          759.3    7  11.96\n",
              "4             4   162.0  207.0  ...          638.0   28  39.84\n",
              "..          ...     ...    ...  ...            ...  ...    ...\n",
              "201         201   212.5    0.0  ...          903.6  100  42.92\n",
              "202         202   255.0    0.0  ...          945.0    3   8.20\n",
              "203         203   359.0   19.0  ...          801.0    7  38.61\n",
              "204         204   310.0    0.0  ...          850.0   90  34.68\n",
              "205         205   332.5  142.5  ...          594.0  180  39.78\n",
              "\n",
              "[206 rows x 10 columns]"
            ]
          },
          "metadata": {
            "tags": []
          },
          "execution_count": 222
        }
      ]
    },
    {
      "cell_type": "code",
      "metadata": {
        "id": "T_aR6VPbh3Ky"
      },
      "source": [
        "t_features= concrete_test[['cement', 'slag', 'flyash', 'water', 'superplasticizer', 'coarseaggregate', 'fineaggregate', 'age']]\r\n",
        "t_csMPa=concrete_test[['csMPa']]"
      ],
      "execution_count": 223,
      "outputs": []
    },
    {
      "cell_type": "code",
      "metadata": {
        "id": "wUqgQXwHiDhf"
      },
      "source": [
        "from sklearn.metrics import mean_squared_error"
      ],
      "execution_count": 224,
      "outputs": []
    },
    {
      "cell_type": "code",
      "metadata": {
        "colab": {
          "base_uri": "https://localhost:8080/"
        },
        "id": "2arMzYOqiWgh",
        "outputId": "01fe1abd-48ba-4a43-fc7e-dba0b51b32e3"
      },
      "source": [
        "test_prediction=fitmodels3[0].predict(t_features)\r\n",
        "mse=mean_squared_error(t_csMPa, test_prediction)\r\n",
        "print(mse)"
      ],
      "execution_count": 226,
      "outputs": [
        {
          "output_type": "stream",
          "text": [
            "124.86942797172925\n"
          ],
          "name": "stdout"
        }
      ]
    },
    {
      "cell_type": "code",
      "metadata": {
        "id": "5D14Td91jF0_"
      },
      "source": [
        ""
      ],
      "execution_count": null,
      "outputs": []
    }
  ]
}