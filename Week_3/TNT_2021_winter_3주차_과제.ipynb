{
  "nbformat": 4,
  "nbformat_minor": 0,
  "metadata": {
    "colab": {
      "name": "TNT_2021_winter_3주차_과제.ipynb",
      "provenance": [],
      "collapsed_sections": [],
      "authorship_tag": "ABX9TyMJKa1G6CTTflZy+xJmzKT9"
    },
    "kernelspec": {
      "name": "python3",
      "display_name": "Python 3"
    }
  },
  "cells": [
    {
      "cell_type": "markdown",
      "metadata": {
        "id": "jMPG3ZCsm4Ha"
      },
      "source": [
        "# **01. Heartattack Data**"
      ]
    },
    {
      "cell_type": "code",
      "metadata": {
        "colab": {
          "base_uri": "https://localhost:8080/"
        },
        "id": "c0FQJG-5Xzjn",
        "outputId": "1ae4633f-c4d0-4995-cc9c-5dfb94219dcc"
      },
      "source": [
        "from google.colab import drive\r\n",
        "drive.mount('/content/drive')"
      ],
      "execution_count": null,
      "outputs": [
        {
          "output_type": "stream",
          "text": [
            "Mounted at /content/drive\n"
          ],
          "name": "stdout"
        }
      ]
    },
    {
      "cell_type": "code",
      "metadata": {
        "id": "5Bqmo0sYX6ZK"
      },
      "source": [
        "import os\r\n",
        "os.chdir('/content/drive/My Drive/Colab Notebooks/2021_TNT Winter/3주차')"
      ],
      "execution_count": null,
      "outputs": []
    },
    {
      "cell_type": "code",
      "metadata": {
        "id": "qAT53mcQYcpQ"
      },
      "source": [
        "import pandas as pd\r\n",
        "import numpy as np\r\n",
        "import matplotlib.pyplot as plt"
      ],
      "execution_count": null,
      "outputs": []
    },
    {
      "cell_type": "code",
      "metadata": {
        "id": "i2xXG7GmYfs3"
      },
      "source": [
        "heart_train=pd.read_csv('heart attack train.csv')\r\n",
        "heart_test=pd.read_csv('heart attack test.csv')"
      ],
      "execution_count": null,
      "outputs": []
    },
    {
      "cell_type": "code",
      "metadata": {
        "colab": {
          "base_uri": "https://localhost:8080/"
        },
        "id": "PX1Xwj7NnpgQ",
        "outputId": "157fb72e-6c93-4d88-a964-43f70be60135"
      },
      "source": [
        "heart_train.shape"
      ],
      "execution_count": null,
      "outputs": [
        {
          "output_type": "execute_result",
          "data": {
            "text/plain": [
              "(242, 15)"
            ]
          },
          "metadata": {
            "tags": []
          },
          "execution_count": 5
        }
      ]
    },
    {
      "cell_type": "code",
      "metadata": {
        "colab": {
          "base_uri": "https://localhost:8080/",
          "height": 195
        },
        "id": "ANBaUD2ZnrwM",
        "outputId": "a5c1cd68-3e0a-476c-8469-9c04f0061a88"
      },
      "source": [
        "heart_train.head()"
      ],
      "execution_count": null,
      "outputs": [
        {
          "output_type": "execute_result",
          "data": {
            "text/html": [
              "<div>\n",
              "<style scoped>\n",
              "    .dataframe tbody tr th:only-of-type {\n",
              "        vertical-align: middle;\n",
              "    }\n",
              "\n",
              "    .dataframe tbody tr th {\n",
              "        vertical-align: top;\n",
              "    }\n",
              "\n",
              "    .dataframe thead th {\n",
              "        text-align: right;\n",
              "    }\n",
              "</style>\n",
              "<table border=\"1\" class=\"dataframe\">\n",
              "  <thead>\n",
              "    <tr style=\"text-align: right;\">\n",
              "      <th></th>\n",
              "      <th>Unnamed: 0</th>\n",
              "      <th>age</th>\n",
              "      <th>sex</th>\n",
              "      <th>cp</th>\n",
              "      <th>trestbps</th>\n",
              "      <th>chol</th>\n",
              "      <th>fbs</th>\n",
              "      <th>restecg</th>\n",
              "      <th>thalach</th>\n",
              "      <th>exang</th>\n",
              "      <th>oldpeak</th>\n",
              "      <th>slope</th>\n",
              "      <th>ca</th>\n",
              "      <th>thal</th>\n",
              "      <th>target</th>\n",
              "    </tr>\n",
              "  </thead>\n",
              "  <tbody>\n",
              "    <tr>\n",
              "      <th>0</th>\n",
              "      <td>62</td>\n",
              "      <td>52</td>\n",
              "      <td>1</td>\n",
              "      <td>3</td>\n",
              "      <td>118</td>\n",
              "      <td>186</td>\n",
              "      <td>0</td>\n",
              "      <td>0</td>\n",
              "      <td>190</td>\n",
              "      <td>0</td>\n",
              "      <td>0.0</td>\n",
              "      <td>1</td>\n",
              "      <td>0</td>\n",
              "      <td>1</td>\n",
              "      <td>1</td>\n",
              "    </tr>\n",
              "    <tr>\n",
              "      <th>1</th>\n",
              "      <td>127</td>\n",
              "      <td>67</td>\n",
              "      <td>0</td>\n",
              "      <td>2</td>\n",
              "      <td>152</td>\n",
              "      <td>277</td>\n",
              "      <td>0</td>\n",
              "      <td>1</td>\n",
              "      <td>172</td>\n",
              "      <td>0</td>\n",
              "      <td>0.0</td>\n",
              "      <td>2</td>\n",
              "      <td>1</td>\n",
              "      <td>2</td>\n",
              "      <td>1</td>\n",
              "    </tr>\n",
              "    <tr>\n",
              "      <th>2</th>\n",
              "      <td>111</td>\n",
              "      <td>57</td>\n",
              "      <td>1</td>\n",
              "      <td>2</td>\n",
              "      <td>150</td>\n",
              "      <td>126</td>\n",
              "      <td>1</td>\n",
              "      <td>1</td>\n",
              "      <td>173</td>\n",
              "      <td>0</td>\n",
              "      <td>0.2</td>\n",
              "      <td>2</td>\n",
              "      <td>1</td>\n",
              "      <td>3</td>\n",
              "      <td>1</td>\n",
              "    </tr>\n",
              "    <tr>\n",
              "      <th>3</th>\n",
              "      <td>287</td>\n",
              "      <td>57</td>\n",
              "      <td>1</td>\n",
              "      <td>1</td>\n",
              "      <td>154</td>\n",
              "      <td>232</td>\n",
              "      <td>0</td>\n",
              "      <td>0</td>\n",
              "      <td>164</td>\n",
              "      <td>0</td>\n",
              "      <td>0.0</td>\n",
              "      <td>2</td>\n",
              "      <td>1</td>\n",
              "      <td>2</td>\n",
              "      <td>0</td>\n",
              "    </tr>\n",
              "    <tr>\n",
              "      <th>4</th>\n",
              "      <td>108</td>\n",
              "      <td>50</td>\n",
              "      <td>0</td>\n",
              "      <td>1</td>\n",
              "      <td>120</td>\n",
              "      <td>244</td>\n",
              "      <td>0</td>\n",
              "      <td>1</td>\n",
              "      <td>162</td>\n",
              "      <td>0</td>\n",
              "      <td>1.1</td>\n",
              "      <td>2</td>\n",
              "      <td>0</td>\n",
              "      <td>2</td>\n",
              "      <td>1</td>\n",
              "    </tr>\n",
              "  </tbody>\n",
              "</table>\n",
              "</div>"
            ],
            "text/plain": [
              "   Unnamed: 0  age  sex  cp  trestbps  ...  oldpeak  slope  ca  thal  target\n",
              "0          62   52    1   3       118  ...      0.0      1   0     1       1\n",
              "1         127   67    0   2       152  ...      0.0      2   1     2       1\n",
              "2         111   57    1   2       150  ...      0.2      2   1     3       1\n",
              "3         287   57    1   1       154  ...      0.0      2   1     2       0\n",
              "4         108   50    0   1       120  ...      1.1      2   0     2       1\n",
              "\n",
              "[5 rows x 15 columns]"
            ]
          },
          "metadata": {
            "tags": []
          },
          "execution_count": 6
        }
      ]
    },
    {
      "cell_type": "code",
      "metadata": {
        "colab": {
          "base_uri": "https://localhost:8080/"
        },
        "id": "6e8_2_XWqKN8",
        "outputId": "0fa20a27-a522-40ed-9092-96cbdbb4f860"
      },
      "source": [
        "heart_train.info()"
      ],
      "execution_count": null,
      "outputs": [
        {
          "output_type": "stream",
          "text": [
            "<class 'pandas.core.frame.DataFrame'>\n",
            "RangeIndex: 242 entries, 0 to 241\n",
            "Data columns (total 15 columns):\n",
            " #   Column      Non-Null Count  Dtype  \n",
            "---  ------      --------------  -----  \n",
            " 0   Unnamed: 0  242 non-null    int64  \n",
            " 1   age         242 non-null    int64  \n",
            " 2   sex         242 non-null    int64  \n",
            " 3   cp          242 non-null    int64  \n",
            " 4   trestbps    242 non-null    int64  \n",
            " 5   chol        242 non-null    int64  \n",
            " 6   fbs         242 non-null    int64  \n",
            " 7   restecg     242 non-null    int64  \n",
            " 8   thalach     242 non-null    int64  \n",
            " 9   exang       242 non-null    int64  \n",
            " 10  oldpeak     242 non-null    float64\n",
            " 11  slope       242 non-null    int64  \n",
            " 12  ca          242 non-null    int64  \n",
            " 13  thal        242 non-null    int64  \n",
            " 14  target      242 non-null    int64  \n",
            "dtypes: float64(1), int64(14)\n",
            "memory usage: 28.5 KB\n"
          ],
          "name": "stdout"
        }
      ]
    },
    {
      "cell_type": "markdown",
      "metadata": {
        "id": "aFi4nQrBBLXo"
      },
      "source": [
        "**01-1. 주어진 데이터를 이용하여 heart attack 가능성을 예측하는 모델을 만들 것입니다. target을 예측하는 최적의 모델을 만드시오.**"
      ]
    },
    {
      "cell_type": "code",
      "metadata": {
        "id": "2mdf43EZq5vq"
      },
      "source": [
        "xtrain_features = heart_train[['age','sex','cp','trestbps','chol','fbs','restecg','thalach','exang','oldpeak','slope','ca','thal']]\r\n",
        "ytrain_target = heart_train['target']\r\n",
        "\r\n",
        "xtest_features= heart_test[['age','sex','cp','trestbps','chol','fbs','restecg','thalach','exang','oldpeak','slope','ca','thal']]\r\n",
        "ytest_target=heart_test['target']"
      ],
      "execution_count": null,
      "outputs": []
    },
    {
      "cell_type": "code",
      "metadata": {
        "id": "8ICy4dhhvTug"
      },
      "source": [
        "from sklearn.preprocessing import StandardScaler\r\n",
        "\r\n",
        "scaler = StandardScaler()\r\n",
        "\r\n",
        "train_features = scaler.fit_transform(xtrain_features)\r\n",
        "test_features = scaler.transform(xtest_features)"
      ],
      "execution_count": null,
      "outputs": []
    },
    {
      "cell_type": "code",
      "metadata": {
        "colab": {
          "base_uri": "https://localhost:8080/"
        },
        "id": "clsxVJyQwV-N",
        "outputId": "1bbf9bf5-19e7-4229-dfac-1cf005b5b2bc"
      },
      "source": [
        "from sklearn.linear_model import LogisticRegression\r\n",
        "\r\n",
        "model = LogisticRegression()\r\n",
        "model.fit(train_features, ytrain_target)"
      ],
      "execution_count": null,
      "outputs": [
        {
          "output_type": "execute_result",
          "data": {
            "text/plain": [
              "LogisticRegression(C=1.0, class_weight=None, dual=False, fit_intercept=True,\n",
              "                   intercept_scaling=1, l1_ratio=None, max_iter=100,\n",
              "                   multi_class='auto', n_jobs=None, penalty='l2',\n",
              "                   random_state=None, solver='lbfgs', tol=0.0001, verbose=0,\n",
              "                   warm_start=False)"
            ]
          },
          "metadata": {
            "tags": []
          },
          "execution_count": 38
        }
      ]
    },
    {
      "cell_type": "code",
      "metadata": {
        "colab": {
          "base_uri": "https://localhost:8080/"
        },
        "id": "t0Q1ONiBwlIx",
        "outputId": "9e688d30-0b8e-45df-d314-ffa4a311678c"
      },
      "source": [
        "print(model.score(train_features, ytrain_target))"
      ],
      "execution_count": null,
      "outputs": [
        {
          "output_type": "stream",
          "text": [
            "0.8677685950413223\n"
          ],
          "name": "stdout"
        }
      ]
    },
    {
      "cell_type": "code",
      "metadata": {
        "colab": {
          "base_uri": "https://localhost:8080/"
        },
        "id": "idHwkSmPwqj1",
        "outputId": "2f8e9978-3573-434d-c054-f02ec37af329"
      },
      "source": [
        "prediction=print(model.score(test_features, ytest_target))"
      ],
      "execution_count": null,
      "outputs": [
        {
          "output_type": "stream",
          "text": [
            "0.7377049180327869\n"
          ],
          "name": "stdout"
        }
      ]
    },
    {
      "cell_type": "code",
      "metadata": {
        "colab": {
          "base_uri": "https://localhost:8080/"
        },
        "id": "b_0UkY_xwz38",
        "outputId": "28dd3d2c-0723-4368-f039-3d698dac6555"
      },
      "source": [
        "from sklearn.metrics import classification_report\r\n",
        "y_pred=model.predict(xtest_features)\r\n",
        "print(classification_report(ytest_target, y_pred))"
      ],
      "execution_count": null,
      "outputs": [
        {
          "output_type": "stream",
          "text": [
            "              precision    recall  f1-score   support\n",
            "\n",
            "           0       0.54      0.93      0.68        30\n",
            "           1       0.78      0.23      0.35        31\n",
            "\n",
            "    accuracy                           0.57        61\n",
            "   macro avg       0.66      0.58      0.52        61\n",
            "weighted avg       0.66      0.57      0.51        61\n",
            "\n"
          ],
          "name": "stdout"
        }
      ]
    },
    {
      "cell_type": "markdown",
      "metadata": {
        "id": "4FdLRTciBcnh"
      },
      "source": [
        "**01-2. 1)에서 만든 모델을 이용하여 target과 각각의 변수간의 관계를 설명하세요.**"
      ]
    },
    {
      "cell_type": "code",
      "metadata": {
        "colab": {
          "base_uri": "https://localhost:8080/"
        },
        "id": "ki1PN0Wcw_kG",
        "outputId": "22249e8b-451b-4b78-db1b-35123f6bc094"
      },
      "source": [
        "import statsmodels.api as sm\r\n",
        "logit = sm.Logit(ytrain_target,xtrain_features) #로지스틱 회귀분석 시행\r\n",
        "result = logit.fit()"
      ],
      "execution_count": null,
      "outputs": [
        {
          "output_type": "stream",
          "text": [
            "/usr/local/lib/python3.6/dist-packages/statsmodels/tools/_testing.py:19: FutureWarning: pandas.util.testing is deprecated. Use the functions in the public API at pandas.testing instead.\n",
            "  import pandas.util.testing as tm\n"
          ],
          "name": "stderr"
        },
        {
          "output_type": "stream",
          "text": [
            "Optimization terminated successfully.\n",
            "         Current function value: 0.317551\n",
            "         Iterations 8\n"
          ],
          "name": "stdout"
        }
      ]
    },
    {
      "cell_type": "code",
      "metadata": {
        "colab": {
          "base_uri": "https://localhost:8080/",
          "height": 460
        },
        "id": "8fkx29js0Wxg",
        "outputId": "49d79b5c-b351-4fba-a53c-3b222480e766"
      },
      "source": [
        "result.summary2()"
      ],
      "execution_count": null,
      "outputs": [
        {
          "output_type": "execute_result",
          "data": {
            "text/html": [
              "<table class=\"simpletable\">\n",
              "<tr>\n",
              "        <td>Model:</td>              <td>Logit</td>      <td>Pseudo R-squared:</td>    <td>0.538</td>  \n",
              "</tr>\n",
              "<tr>\n",
              "  <td>Dependent Variable:</td>      <td>target</td>            <td>AIC:</td>         <td>179.6948</td> \n",
              "</tr>\n",
              "<tr>\n",
              "         <td>Date:</td>        <td>2021-01-16 10:50</td>       <td>BIC:</td>         <td>225.0510</td> \n",
              "</tr>\n",
              "<tr>\n",
              "   <td>No. Observations:</td>         <td>242</td>        <td>Log-Likelihood:</td>    <td>-76.847</td> \n",
              "</tr>\n",
              "<tr>\n",
              "       <td>Df Model:</td>             <td>12</td>            <td>LL-Null:</td>        <td>-166.34</td> \n",
              "</tr>\n",
              "<tr>\n",
              "     <td>Df Residuals:</td>           <td>229</td>         <td>LLR p-value:</td>    <td>6.8765e-32</td>\n",
              "</tr>\n",
              "<tr>\n",
              "      <td>Converged:</td>           <td>1.0000</td>           <td>Scale:</td>         <td>1.0000</td>  \n",
              "</tr>\n",
              "<tr>\n",
              "    <td>No. Iterations:</td>        <td>8.0000</td>              <td></td>               <td></td>     \n",
              "</tr>\n",
              "</table>\n",
              "<table class=\"simpletable\">\n",
              "<tr>\n",
              "      <td></td>      <th>Coef.</th>  <th>Std.Err.</th>    <th>z</th>     <th>P>|z|</th> <th>[0.025</th>  <th>0.975]</th> \n",
              "</tr>\n",
              "<tr>\n",
              "  <th>age</th>      <td>-0.0015</td>  <td>0.0233</td>  <td>-0.0636</td> <td>0.9493</td> <td>-0.0473</td> <td>0.0443</td> \n",
              "</tr>\n",
              "<tr>\n",
              "  <th>sex</th>      <td>-2.4788</td>  <td>0.5967</td>  <td>-4.1546</td> <td>0.0000</td> <td>-3.6483</td> <td>-1.3094</td>\n",
              "</tr>\n",
              "<tr>\n",
              "  <th>cp</th>       <td>1.1362</td>   <td>0.2334</td>  <td>4.8670</td>  <td>0.0000</td> <td>0.6786</td>  <td>1.5937</td> \n",
              "</tr>\n",
              "<tr>\n",
              "  <th>trestbps</th> <td>-0.0231</td>  <td>0.0119</td>  <td>-1.9430</td> <td>0.0520</td> <td>-0.0465</td> <td>0.0002</td> \n",
              "</tr>\n",
              "<tr>\n",
              "  <th>chol</th>     <td>-0.0041</td>  <td>0.0046</td>  <td>-0.8897</td> <td>0.3737</td> <td>-0.0132</td> <td>0.0049</td> \n",
              "</tr>\n",
              "<tr>\n",
              "  <th>fbs</th>      <td>0.2657</td>   <td>0.6304</td>  <td>0.4214</td>  <td>0.6735</td> <td>-0.9699</td> <td>1.5013</td> \n",
              "</tr>\n",
              "<tr>\n",
              "  <th>restecg</th>  <td>0.8195</td>   <td>0.4163</td>  <td>1.9684</td>  <td>0.0490</td> <td>0.0035</td>  <td>1.6354</td> \n",
              "</tr>\n",
              "<tr>\n",
              "  <th>thalach</th>  <td>0.0421</td>   <td>0.0109</td>  <td>3.8755</td>  <td>0.0001</td> <td>0.0208</td>  <td>0.0635</td> \n",
              "</tr>\n",
              "<tr>\n",
              "  <th>exang</th>    <td>-1.1088</td>  <td>0.4878</td>  <td>-2.2729</td> <td>0.0230</td> <td>-2.0649</td> <td>-0.1527</td>\n",
              "</tr>\n",
              "<tr>\n",
              "  <th>oldpeak</th>  <td>-0.6761</td>  <td>0.2583</td>  <td>-2.6175</td> <td>0.0089</td> <td>-1.1824</td> <td>-0.1698</td>\n",
              "</tr>\n",
              "<tr>\n",
              "  <th>slope</th>    <td>0.3035</td>   <td>0.4295</td>  <td>0.7066</td>  <td>0.4798</td> <td>-0.5384</td> <td>1.1454</td> \n",
              "</tr>\n",
              "<tr>\n",
              "  <th>ca</th>       <td>-0.6900</td>  <td>0.2234</td>  <td>-3.0893</td> <td>0.0020</td> <td>-1.1278</td> <td>-0.2522</td>\n",
              "</tr>\n",
              "<tr>\n",
              "  <th>thal</th>     <td>-0.3306</td>  <td>0.3430</td>  <td>-0.9639</td> <td>0.3351</td> <td>-1.0030</td> <td>0.3417</td> \n",
              "</tr>\n",
              "</table>"
            ],
            "text/plain": [
              "<class 'statsmodels.iolib.summary2.Summary'>\n",
              "\"\"\"\n",
              "                         Results: Logit\n",
              "=================================================================\n",
              "Model:              Logit            Pseudo R-squared: 0.538     \n",
              "Dependent Variable: target           AIC:              179.6948  \n",
              "Date:               2021-01-16 10:50 BIC:              225.0510  \n",
              "No. Observations:   242              Log-Likelihood:   -76.847   \n",
              "Df Model:           12               LL-Null:          -166.34   \n",
              "Df Residuals:       229              LLR p-value:      6.8765e-32\n",
              "Converged:          1.0000           Scale:            1.0000    \n",
              "No. Iterations:     8.0000                                       \n",
              "------------------------------------------------------------------\n",
              "               Coef.   Std.Err.     z     P>|z|    [0.025   0.975]\n",
              "------------------------------------------------------------------\n",
              "age           -0.0015    0.0233  -0.0636  0.9493  -0.0473   0.0443\n",
              "sex           -2.4788    0.5967  -4.1546  0.0000  -3.6483  -1.3094\n",
              "cp             1.1362    0.2334   4.8670  0.0000   0.6786   1.5937\n",
              "trestbps      -0.0231    0.0119  -1.9430  0.0520  -0.0465   0.0002\n",
              "chol          -0.0041    0.0046  -0.8897  0.3737  -0.0132   0.0049\n",
              "fbs            0.2657    0.6304   0.4214  0.6735  -0.9699   1.5013\n",
              "restecg        0.8195    0.4163   1.9684  0.0490   0.0035   1.6354\n",
              "thalach        0.0421    0.0109   3.8755  0.0001   0.0208   0.0635\n",
              "exang         -1.1088    0.4878  -2.2729  0.0230  -2.0649  -0.1527\n",
              "oldpeak       -0.6761    0.2583  -2.6175  0.0089  -1.1824  -0.1698\n",
              "slope          0.3035    0.4295   0.7066  0.4798  -0.5384   1.1454\n",
              "ca            -0.6900    0.2234  -3.0893  0.0020  -1.1278  -0.2522\n",
              "thal          -0.3306    0.3430  -0.9639  0.3351  -1.0030   0.3417\n",
              "=================================================================\n",
              "\n",
              "\"\"\""
            ]
          },
          "metadata": {
            "tags": []
          },
          "execution_count": 48
        }
      ]
    },
    {
      "cell_type": "code",
      "metadata": {
        "colab": {
          "base_uri": "https://localhost:8080/"
        },
        "id": "hiFJgld40a3m",
        "outputId": "b7a98c1e-ab28-4526-ef4e-ee534bc19755"
      },
      "source": [
        "np.exp(result.params)"
      ],
      "execution_count": null,
      "outputs": [
        {
          "output_type": "execute_result",
          "data": {
            "text/plain": [
              "age         0.998516\n",
              "sex         0.083840\n",
              "cp          3.114787\n",
              "trestbps    0.977120\n",
              "chol        0.995902\n",
              "fbs         1.304295\n",
              "restecg     2.269304\n",
              "thalach     1.043047\n",
              "exang       0.329961\n",
              "oldpeak     0.508597\n",
              "slope       1.354619\n",
              "ca          0.501556\n",
              "thal        0.718459\n",
              "dtype: float64"
            ]
          },
          "metadata": {
            "tags": []
          },
          "execution_count": 49
        }
      ]
    },
    {
      "cell_type": "markdown",
      "metadata": {
        "id": "0crLjFMRB7T4"
      },
      "source": [
        "오즈비가 1을 기준으로 큰지 작은지를 파악하여 종속 변수에 미치는 영향의 방향을 파악할 수 있다. 아무런 관계가 없을 때 오즈비는 1이다. 즉, 1에서 멀리 떨어질 수록 종속변수와의 관계가 강하다는 뜻인데 오즈비가 10인 경우와 0.1인 경우는 종속변수에 영향을 주는 강도가 같다.\r\n",
        "\r\n",
        "영향을 많이 주는 변수에는 cp와, sex, restecg가 있다. \r\n",
        "영향을 거의 안미치는 변수는 thalach, chol, age 등이다. "
      ]
    },
    {
      "cell_type": "markdown",
      "metadata": {
        "id": "EfA1RvZEBnpr"
      },
      "source": [
        "**01-3. 1)에서 만든 모델의 test misclassifiaction rate를 구하세요.**"
      ]
    },
    {
      "cell_type": "code",
      "metadata": {
        "colab": {
          "base_uri": "https://localhost:8080/"
        },
        "id": "jGbS3Aiz0h9G",
        "outputId": "b7086f7a-d63f-4bb8-bf43-72344664f4b2"
      },
      "source": [
        "print(1-model.score(test_features, ytest_target))"
      ],
      "execution_count": null,
      "outputs": [
        {
          "output_type": "stream",
          "text": [
            "0.2622950819672131\n"
          ],
          "name": "stdout"
        }
      ]
    },
    {
      "cell_type": "markdown",
      "metadata": {
        "id": "KpsMOdoR3M8I"
      },
      "source": [
        "# **02. Satisfaction Data**"
      ]
    },
    {
      "cell_type": "markdown",
      "metadata": {
        "id": "bxt5j-l7Czfe"
      },
      "source": [
        "**02-1. 주어진 데이터를 이용하여 satisfaction을 예측하는 모델을 만들 것입니다. satisfaction을 예측하는 최적의 모델을 만드세요.**"
      ]
    },
    {
      "cell_type": "code",
      "metadata": {
        "id": "37h0Sx863AFN"
      },
      "source": [
        "satisfaction_train=pd.read_csv('satisfaction_train.csv')\r\n",
        "satisfaction_test=pd.read_csv('satisfaction_test.csv')"
      ],
      "execution_count": null,
      "outputs": []
    },
    {
      "cell_type": "code",
      "metadata": {
        "colab": {
          "base_uri": "https://localhost:8080/",
          "height": 350
        },
        "id": "zieTJNdQ3yzj",
        "outputId": "fdefc2a3-bc26-4945-c900-5a081835adbe"
      },
      "source": [
        "satisfaction_train.head()"
      ],
      "execution_count": null,
      "outputs": [
        {
          "output_type": "execute_result",
          "data": {
            "text/html": [
              "<div>\n",
              "<style scoped>\n",
              "    .dataframe tbody tr th:only-of-type {\n",
              "        vertical-align: middle;\n",
              "    }\n",
              "\n",
              "    .dataframe tbody tr th {\n",
              "        vertical-align: top;\n",
              "    }\n",
              "\n",
              "    .dataframe thead th {\n",
              "        text-align: right;\n",
              "    }\n",
              "</style>\n",
              "<table border=\"1\" class=\"dataframe\">\n",
              "  <thead>\n",
              "    <tr style=\"text-align: right;\">\n",
              "      <th></th>\n",
              "      <th>Unnamed: 0</th>\n",
              "      <th>Gender</th>\n",
              "      <th>Customer Type</th>\n",
              "      <th>Age</th>\n",
              "      <th>Type of Travel</th>\n",
              "      <th>Class</th>\n",
              "      <th>Flight Distance</th>\n",
              "      <th>Seat comfort</th>\n",
              "      <th>Departure/Arrival time convenient</th>\n",
              "      <th>Food and drink</th>\n",
              "      <th>Gate location</th>\n",
              "      <th>Inflight wifi service</th>\n",
              "      <th>Inflight entertainment</th>\n",
              "      <th>Online support</th>\n",
              "      <th>Ease of Online booking</th>\n",
              "      <th>On-board service</th>\n",
              "      <th>Leg room service</th>\n",
              "      <th>Baggage handling</th>\n",
              "      <th>Checkin service</th>\n",
              "      <th>Cleanliness</th>\n",
              "      <th>Online boarding</th>\n",
              "      <th>Departure Delay in Minutes</th>\n",
              "      <th>Arrival Delay in Minutes</th>\n",
              "      <th>satisfaction</th>\n",
              "    </tr>\n",
              "  </thead>\n",
              "  <tbody>\n",
              "    <tr>\n",
              "      <th>0</th>\n",
              "      <td>105527</td>\n",
              "      <td>Female</td>\n",
              "      <td>Loyal Customer</td>\n",
              "      <td>39</td>\n",
              "      <td>Business travel</td>\n",
              "      <td>Business</td>\n",
              "      <td>2725</td>\n",
              "      <td>5</td>\n",
              "      <td>5</td>\n",
              "      <td>2</td>\n",
              "      <td>5</td>\n",
              "      <td>4</td>\n",
              "      <td>4</td>\n",
              "      <td>5</td>\n",
              "      <td>4</td>\n",
              "      <td>4</td>\n",
              "      <td>4</td>\n",
              "      <td>4</td>\n",
              "      <td>4</td>\n",
              "      <td>4</td>\n",
              "      <td>4</td>\n",
              "      <td>73</td>\n",
              "      <td>65.0</td>\n",
              "      <td>satisfied</td>\n",
              "    </tr>\n",
              "    <tr>\n",
              "      <th>1</th>\n",
              "      <td>82617</td>\n",
              "      <td>Female</td>\n",
              "      <td>Loyal Customer</td>\n",
              "      <td>27</td>\n",
              "      <td>Business travel</td>\n",
              "      <td>Business</td>\n",
              "      <td>1634</td>\n",
              "      <td>3</td>\n",
              "      <td>3</td>\n",
              "      <td>3</td>\n",
              "      <td>3</td>\n",
              "      <td>3</td>\n",
              "      <td>3</td>\n",
              "      <td>3</td>\n",
              "      <td>3</td>\n",
              "      <td>3</td>\n",
              "      <td>4</td>\n",
              "      <td>4</td>\n",
              "      <td>2</td>\n",
              "      <td>3</td>\n",
              "      <td>3</td>\n",
              "      <td>39</td>\n",
              "      <td>37.0</td>\n",
              "      <td>dissatisfied</td>\n",
              "    </tr>\n",
              "    <tr>\n",
              "      <th>2</th>\n",
              "      <td>34069</td>\n",
              "      <td>Female</td>\n",
              "      <td>Loyal Customer</td>\n",
              "      <td>21</td>\n",
              "      <td>Personal Travel</td>\n",
              "      <td>Eco Plus</td>\n",
              "      <td>1341</td>\n",
              "      <td>4</td>\n",
              "      <td>4</td>\n",
              "      <td>0</td>\n",
              "      <td>1</td>\n",
              "      <td>1</td>\n",
              "      <td>0</td>\n",
              "      <td>1</td>\n",
              "      <td>1</td>\n",
              "      <td>4</td>\n",
              "      <td>1</td>\n",
              "      <td>3</td>\n",
              "      <td>5</td>\n",
              "      <td>4</td>\n",
              "      <td>1</td>\n",
              "      <td>0</td>\n",
              "      <td>0.0</td>\n",
              "      <td>satisfied</td>\n",
              "    </tr>\n",
              "    <tr>\n",
              "      <th>3</th>\n",
              "      <td>18636</td>\n",
              "      <td>Male</td>\n",
              "      <td>Loyal Customer</td>\n",
              "      <td>64</td>\n",
              "      <td>Personal Travel</td>\n",
              "      <td>Eco Plus</td>\n",
              "      <td>3794</td>\n",
              "      <td>2</td>\n",
              "      <td>5</td>\n",
              "      <td>2</td>\n",
              "      <td>4</td>\n",
              "      <td>2</td>\n",
              "      <td>1</td>\n",
              "      <td>1</td>\n",
              "      <td>5</td>\n",
              "      <td>3</td>\n",
              "      <td>3</td>\n",
              "      <td>5</td>\n",
              "      <td>1</td>\n",
              "      <td>4</td>\n",
              "      <td>1</td>\n",
              "      <td>570</td>\n",
              "      <td>567.0</td>\n",
              "      <td>dissatisfied</td>\n",
              "    </tr>\n",
              "    <tr>\n",
              "      <th>4</th>\n",
              "      <td>28693</td>\n",
              "      <td>Female</td>\n",
              "      <td>Loyal Customer</td>\n",
              "      <td>69</td>\n",
              "      <td>Personal Travel</td>\n",
              "      <td>Eco</td>\n",
              "      <td>1237</td>\n",
              "      <td>5</td>\n",
              "      <td>5</td>\n",
              "      <td>5</td>\n",
              "      <td>5</td>\n",
              "      <td>4</td>\n",
              "      <td>5</td>\n",
              "      <td>5</td>\n",
              "      <td>5</td>\n",
              "      <td>5</td>\n",
              "      <td>5</td>\n",
              "      <td>5</td>\n",
              "      <td>3</td>\n",
              "      <td>5</td>\n",
              "      <td>4</td>\n",
              "      <td>69</td>\n",
              "      <td>72.0</td>\n",
              "      <td>satisfied</td>\n",
              "    </tr>\n",
              "  </tbody>\n",
              "</table>\n",
              "</div>"
            ],
            "text/plain": [
              "   Unnamed: 0  Gender  ... Arrival Delay in Minutes  satisfaction\n",
              "0      105527  Female  ...                     65.0     satisfied\n",
              "1       82617  Female  ...                     37.0  dissatisfied\n",
              "2       34069  Female  ...                      0.0     satisfied\n",
              "3       18636    Male  ...                    567.0  dissatisfied\n",
              "4       28693  Female  ...                     72.0     satisfied\n",
              "\n",
              "[5 rows x 24 columns]"
            ]
          },
          "metadata": {
            "tags": []
          },
          "execution_count": 63
        }
      ]
    },
    {
      "cell_type": "code",
      "metadata": {
        "colab": {
          "base_uri": "https://localhost:8080/"
        },
        "id": "9JvOnx_S304Z",
        "outputId": "3a6b9b6f-90ce-4672-afe2-0a2bd529242c"
      },
      "source": [
        "satisfaction_train.info()"
      ],
      "execution_count": null,
      "outputs": [
        {
          "output_type": "stream",
          "text": [
            "<class 'pandas.core.frame.DataFrame'>\n",
            "RangeIndex: 51794 entries, 0 to 51793\n",
            "Data columns (total 24 columns):\n",
            " #   Column                             Non-Null Count  Dtype  \n",
            "---  ------                             --------------  -----  \n",
            " 0   Unnamed: 0                         51794 non-null  int64  \n",
            " 1   Gender                             51794 non-null  object \n",
            " 2   Customer Type                      51794 non-null  object \n",
            " 3   Age                                51794 non-null  int64  \n",
            " 4   Type of Travel                     51794 non-null  object \n",
            " 5   Class                              51794 non-null  object \n",
            " 6   Flight Distance                    51794 non-null  int64  \n",
            " 7   Seat comfort                       51794 non-null  int64  \n",
            " 8   Departure/Arrival time convenient  51794 non-null  int64  \n",
            " 9   Food and drink                     51794 non-null  int64  \n",
            " 10  Gate location                      51794 non-null  int64  \n",
            " 11  Inflight wifi service              51794 non-null  int64  \n",
            " 12  Inflight entertainment             51794 non-null  int64  \n",
            " 13  Online support                     51794 non-null  int64  \n",
            " 14  Ease of Online booking             51794 non-null  int64  \n",
            " 15  On-board service                   51794 non-null  int64  \n",
            " 16  Leg room service                   51794 non-null  int64  \n",
            " 17  Baggage handling                   51794 non-null  int64  \n",
            " 18  Checkin service                    51794 non-null  int64  \n",
            " 19  Cleanliness                        51794 non-null  int64  \n",
            " 20  Online boarding                    51794 non-null  int64  \n",
            " 21  Departure Delay in Minutes         51794 non-null  int64  \n",
            " 22  Arrival Delay in Minutes           51794 non-null  float64\n",
            " 23  satisfaction                       51794 non-null  object \n",
            "dtypes: float64(1), int64(18), object(5)\n",
            "memory usage: 9.5+ MB\n"
          ],
          "name": "stdout"
        }
      ]
    },
    {
      "cell_type": "code",
      "metadata": {
        "id": "g47iLHiS6-wp"
      },
      "source": [
        "from sklearn.preprocessing import LabelEncoder\r\n",
        "\r\n",
        "encoder = LabelEncoder()\r\n",
        "encoder.fit(satisfaction_train['satisfaction'])\r\n",
        "satisfaction_train['satisfaction']=encoder.transform(satisfaction_train['satisfaction'])\r\n",
        "\r\n",
        "encoder.fit(satisfaction_test['satisfaction'])\r\n",
        "satisfaction_test['satisfaction']=encoder.transform(satisfaction_test['satisfaction'])"
      ],
      "execution_count": null,
      "outputs": []
    },
    {
      "cell_type": "code",
      "metadata": {
        "colab": {
          "base_uri": "https://localhost:8080/",
          "height": 350
        },
        "id": "lap8uX5f7ncr",
        "outputId": "6ea00542-740c-4539-f447-3d2d5c1d1c0a"
      },
      "source": [
        "satisfaction_test.head()"
      ],
      "execution_count": null,
      "outputs": [
        {
          "output_type": "execute_result",
          "data": {
            "text/html": [
              "<div>\n",
              "<style scoped>\n",
              "    .dataframe tbody tr th:only-of-type {\n",
              "        vertical-align: middle;\n",
              "    }\n",
              "\n",
              "    .dataframe tbody tr th {\n",
              "        vertical-align: top;\n",
              "    }\n",
              "\n",
              "    .dataframe thead th {\n",
              "        text-align: right;\n",
              "    }\n",
              "</style>\n",
              "<table border=\"1\" class=\"dataframe\">\n",
              "  <thead>\n",
              "    <tr style=\"text-align: right;\">\n",
              "      <th></th>\n",
              "      <th>Unnamed: 0</th>\n",
              "      <th>Gender</th>\n",
              "      <th>Customer Type</th>\n",
              "      <th>Age</th>\n",
              "      <th>Type of Travel</th>\n",
              "      <th>Class</th>\n",
              "      <th>Flight Distance</th>\n",
              "      <th>Seat comfort</th>\n",
              "      <th>Departure/Arrival time convenient</th>\n",
              "      <th>Food and drink</th>\n",
              "      <th>Gate location</th>\n",
              "      <th>Inflight wifi service</th>\n",
              "      <th>Inflight entertainment</th>\n",
              "      <th>Online support</th>\n",
              "      <th>Ease of Online booking</th>\n",
              "      <th>On-board service</th>\n",
              "      <th>Leg room service</th>\n",
              "      <th>Baggage handling</th>\n",
              "      <th>Checkin service</th>\n",
              "      <th>Cleanliness</th>\n",
              "      <th>Online boarding</th>\n",
              "      <th>Departure Delay in Minutes</th>\n",
              "      <th>Arrival Delay in Minutes</th>\n",
              "      <th>satisfaction</th>\n",
              "    </tr>\n",
              "  </thead>\n",
              "  <tbody>\n",
              "    <tr>\n",
              "      <th>0</th>\n",
              "      <td>25158</td>\n",
              "      <td>Male</td>\n",
              "      <td>Loyal Customer</td>\n",
              "      <td>53</td>\n",
              "      <td>Personal Travel</td>\n",
              "      <td>Eco</td>\n",
              "      <td>2342</td>\n",
              "      <td>3</td>\n",
              "      <td>4</td>\n",
              "      <td>3</td>\n",
              "      <td>2</td>\n",
              "      <td>3</td>\n",
              "      <td>3</td>\n",
              "      <td>3</td>\n",
              "      <td>3</td>\n",
              "      <td>4</td>\n",
              "      <td>4</td>\n",
              "      <td>4</td>\n",
              "      <td>3</td>\n",
              "      <td>4</td>\n",
              "      <td>3</td>\n",
              "      <td>51</td>\n",
              "      <td>81.0</td>\n",
              "      <td>0</td>\n",
              "    </tr>\n",
              "    <tr>\n",
              "      <th>1</th>\n",
              "      <td>116365</td>\n",
              "      <td>Male</td>\n",
              "      <td>Loyal Customer</td>\n",
              "      <td>44</td>\n",
              "      <td>Business travel</td>\n",
              "      <td>Business</td>\n",
              "      <td>2648</td>\n",
              "      <td>4</td>\n",
              "      <td>4</td>\n",
              "      <td>4</td>\n",
              "      <td>4</td>\n",
              "      <td>2</td>\n",
              "      <td>1</td>\n",
              "      <td>3</td>\n",
              "      <td>5</td>\n",
              "      <td>5</td>\n",
              "      <td>5</td>\n",
              "      <td>5</td>\n",
              "      <td>4</td>\n",
              "      <td>5</td>\n",
              "      <td>2</td>\n",
              "      <td>2</td>\n",
              "      <td>60.0</td>\n",
              "      <td>1</td>\n",
              "    </tr>\n",
              "    <tr>\n",
              "      <th>2</th>\n",
              "      <td>55540</td>\n",
              "      <td>Male</td>\n",
              "      <td>disloyal Customer</td>\n",
              "      <td>33</td>\n",
              "      <td>Business travel</td>\n",
              "      <td>Business</td>\n",
              "      <td>1994</td>\n",
              "      <td>3</td>\n",
              "      <td>3</td>\n",
              "      <td>3</td>\n",
              "      <td>5</td>\n",
              "      <td>4</td>\n",
              "      <td>3</td>\n",
              "      <td>4</td>\n",
              "      <td>4</td>\n",
              "      <td>3</td>\n",
              "      <td>4</td>\n",
              "      <td>5</td>\n",
              "      <td>5</td>\n",
              "      <td>5</td>\n",
              "      <td>4</td>\n",
              "      <td>0</td>\n",
              "      <td>0.0</td>\n",
              "      <td>0</td>\n",
              "    </tr>\n",
              "    <tr>\n",
              "      <th>3</th>\n",
              "      <td>58339</td>\n",
              "      <td>Female</td>\n",
              "      <td>disloyal Customer</td>\n",
              "      <td>43</td>\n",
              "      <td>Business travel</td>\n",
              "      <td>Eco</td>\n",
              "      <td>1613</td>\n",
              "      <td>4</td>\n",
              "      <td>3</td>\n",
              "      <td>5</td>\n",
              "      <td>3</td>\n",
              "      <td>1</td>\n",
              "      <td>5</td>\n",
              "      <td>1</td>\n",
              "      <td>1</td>\n",
              "      <td>3</td>\n",
              "      <td>5</td>\n",
              "      <td>3</td>\n",
              "      <td>3</td>\n",
              "      <td>4</td>\n",
              "      <td>1</td>\n",
              "      <td>12</td>\n",
              "      <td>20.0</td>\n",
              "      <td>0</td>\n",
              "    </tr>\n",
              "    <tr>\n",
              "      <th>4</th>\n",
              "      <td>109669</td>\n",
              "      <td>Female</td>\n",
              "      <td>Loyal Customer</td>\n",
              "      <td>53</td>\n",
              "      <td>Business travel</td>\n",
              "      <td>Business</td>\n",
              "      <td>2075</td>\n",
              "      <td>1</td>\n",
              "      <td>1</td>\n",
              "      <td>1</td>\n",
              "      <td>1</td>\n",
              "      <td>3</td>\n",
              "      <td>3</td>\n",
              "      <td>4</td>\n",
              "      <td>5</td>\n",
              "      <td>5</td>\n",
              "      <td>4</td>\n",
              "      <td>5</td>\n",
              "      <td>4</td>\n",
              "      <td>5</td>\n",
              "      <td>3</td>\n",
              "      <td>8</td>\n",
              "      <td>13.0</td>\n",
              "      <td>1</td>\n",
              "    </tr>\n",
              "  </tbody>\n",
              "</table>\n",
              "</div>"
            ],
            "text/plain": [
              "   Unnamed: 0  Gender  ... Arrival Delay in Minutes  satisfaction\n",
              "0       25158    Male  ...                     81.0             0\n",
              "1      116365    Male  ...                     60.0             1\n",
              "2       55540    Male  ...                      0.0             0\n",
              "3       58339  Female  ...                     20.0             0\n",
              "4      109669  Female  ...                     13.0             1\n",
              "\n",
              "[5 rows x 24 columns]"
            ]
          },
          "metadata": {
            "tags": []
          },
          "execution_count": 80
        }
      ]
    },
    {
      "cell_type": "code",
      "metadata": {
        "id": "HIh83ORN4Az9"
      },
      "source": [
        "X_train = satisfaction_train[['Age', 'Flight Distance', 'Seat comfort', 'Departure/Arrival time convenient', 'Food and drink', 'Gate location', 'Inflight wifi service','Inflight entertainment', 'Online support', 'Ease of Online booking', 'On-board service', 'Leg room service', 'Baggage handling',\r\n",
        "                                      'Checkin service', 'Cleanliness', 'Online boarding', 'Departure Delay in Minutes', 'Arrival Delay in Minutes']]\r\n",
        "y_train = satisfaction_train['satisfaction']\r\n",
        "\r\n",
        "X_test = satisfaction_test[['Age', 'Flight Distance', 'Seat comfort', 'Departure/Arrival time convenient', 'Food and drink', 'Gate location', 'Inflight wifi service', 'Inflight entertainment', 'Online support', 'Ease of Online booking', 'On-board service', 'Leg room service', 'Baggage handling',\r\n",
        "                                      'Checkin service', 'Cleanliness', 'Online boarding', 'Departure Delay in Minutes', 'Arrival Delay in Minutes']]\r\n",
        "y_test = satisfaction_test['satisfaction']"
      ],
      "execution_count": null,
      "outputs": []
    },
    {
      "cell_type": "code",
      "metadata": {
        "colab": {
          "base_uri": "https://localhost:8080/"
        },
        "id": "RzrkRNS84K8L",
        "outputId": "9c686124-737e-48d9-dfde-03c75bd18fcb"
      },
      "source": [
        "from sklearn.linear_model import LogisticRegression\r\n",
        "from sklearn.metrics import accuracy_score\r\n",
        "\r\n",
        "log = LogisticRegression(random_state=20, max_iter=1000) #로지스틱 회귀분석 시행\r\n",
        "\r\n",
        "model=log.fit(X_train, y_train) #모델의 정확도 확인\r\n",
        "model_pred=model.predict(X_train)\r\n",
        "print(accuracy_score(y_train, model_pred))"
      ],
      "execution_count": null,
      "outputs": [
        {
          "output_type": "stream",
          "text": [
            "0.8054987064138703\n"
          ],
          "name": "stdout"
        },
        {
          "output_type": "stream",
          "text": [
            "/usr/local/lib/python3.6/dist-packages/sklearn/linear_model/_logistic.py:940: ConvergenceWarning: lbfgs failed to converge (status=1):\n",
            "STOP: TOTAL NO. of ITERATIONS REACHED LIMIT.\n",
            "\n",
            "Increase the number of iterations (max_iter) or scale the data as shown in:\n",
            "    https://scikit-learn.org/stable/modules/preprocessing.html\n",
            "Please also refer to the documentation for alternative solver options:\n",
            "    https://scikit-learn.org/stable/modules/linear_model.html#logistic-regression\n",
            "  extra_warning_msg=_LOGISTIC_SOLVER_CONVERGENCE_MSG)\n"
          ],
          "name": "stderr"
        }
      ]
    },
    {
      "cell_type": "code",
      "metadata": {
        "colab": {
          "base_uri": "https://localhost:8080/"
        },
        "id": "cknEpGPR4uEa",
        "outputId": "a7f15825-080b-4c69-a1ba-b7827f84eb03"
      },
      "source": [
        "from sklearn.metrics import classification_report\r\n",
        "y_pred=model.predict(X_test)\r\n",
        "print(classification_report(y_test, y_pred))"
      ],
      "execution_count": null,
      "outputs": [
        {
          "output_type": "stream",
          "text": [
            "              precision    recall  f1-score   support\n",
            "\n",
            "           0       0.18      0.21      0.19      5878\n",
            "           1       0.21      0.17      0.19      7071\n",
            "\n",
            "    accuracy                           0.19     12949\n",
            "   macro avg       0.19      0.19      0.19     12949\n",
            "weighted avg       0.20      0.19      0.19     12949\n",
            "\n"
          ],
          "name": "stdout"
        }
      ]
    },
    {
      "cell_type": "markdown",
      "metadata": {
        "id": "vCuqWIPDC-Sp"
      },
      "source": [
        "**02-2. 1)에서 만든 모델의 test misclassification rate를 구하세요 -> 이거 왜이렇게 잘못 학습되는지 잘 모르겠습니다... 이거 구하는 방법이 잘못된 걸까요..?**"
      ]
    },
    {
      "cell_type": "code",
      "metadata": {
        "colab": {
          "base_uri": "https://localhost:8080/"
        },
        "id": "inaqVZZj77Gv",
        "outputId": "d0777204-1c32-41c1-8b8f-92b60b1c3370"
      },
      "source": [
        "print(1-accuracy_score(y_test, y_pred))"
      ],
      "execution_count": null,
      "outputs": [
        {
          "output_type": "stream",
          "text": [
            "0.8078616109352074\n"
          ],
          "name": "stdout"
        }
      ]
    },
    {
      "cell_type": "code",
      "metadata": {
        "id": "J1OcBip_8Igq"
      },
      "source": [
        ""
      ],
      "execution_count": null,
      "outputs": []
    }
  ]
}